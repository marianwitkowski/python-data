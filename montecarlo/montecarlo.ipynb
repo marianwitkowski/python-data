{
 "cells": [
  {
   "cell_type": "code",
   "execution_count": 1,
   "metadata": {},
   "outputs": [],
   "source": [
    "import random as r\n",
    "import math as m\n",
    "import time\n",
    "from ctypes import *\n",
    "import numpy as np"
   ]
  },
  {
   "cell_type": "code",
   "execution_count": 2,
   "metadata": {},
   "outputs": [],
   "source": [
    "# Metoda MontCarlo - implementacja w Pythonie\n",
    "def calc_pi():\n",
    "    inside = 0\n",
    "    total = 1000000\n",
    "    for i in range(0, total):\n",
    "        x2=r.random()**2\n",
    "        y2=r.random()**2\n",
    "        if x2 + y2 < 1.0:\n",
    "            inside += 1\n",
    "    pi = (float(inside) / total) * 4\n",
    "    return pi"
   ]
  },
  {
   "cell_type": "code",
   "execution_count": 3,
   "metadata": {},
   "outputs": [],
   "source": [
    "# Metoda MontCarlo - implementacja w NumPy\n",
    "def calc_pi_np():\n",
    "    total = 1000000\n",
    "    z = np.random.rand(total)**2 + np.random.rand(total)**2\n",
    "    inside = (z[z<1.0]).size\n",
    "    pi = (inside / total) * 4\n",
    "    return pi"
   ]
  },
  {
   "cell_type": "code",
   "execution_count": 4,
   "metadata": {},
   "outputs": [],
   "source": [
    "# Ładowanie modułu napisanego w C\n",
    "so_file = \"montecarlo.so\"\n",
    "montecarlo = CDLL(so_file)\n",
    "montecarlo.calc_pi.restype = c_float"
   ]
  },
  {
   "cell_type": "code",
   "execution_count": 5,
   "metadata": {},
   "outputs": [
    {
     "name": "stdout",
     "output_type": "stream",
     "text": [
      "20.1 ms ± 492 µs per loop (mean ± std. dev. of 7 runs, 10 loops each)\n"
     ]
    }
   ],
   "source": [
    "%%timeit\n",
    "# Wywołanie z wykorzystaniem modułu w C\n",
    "montecarlo.calc_pi()"
   ]
  },
  {
   "cell_type": "code",
   "execution_count": 6,
   "metadata": {},
   "outputs": [
    {
     "name": "stdout",
     "output_type": "stream",
     "text": [
      "438 ms ± 40.5 ms per loop (mean ± std. dev. of 7 runs, 1 loop each)\n"
     ]
    }
   ],
   "source": [
    "%%timeit\n",
    "# Wywołanie z wykorzystaniem funkcji w Pythonie\n",
    "calc_pi()"
   ]
  },
  {
   "cell_type": "code",
   "execution_count": 7,
   "metadata": {},
   "outputs": [
    {
     "name": "stdout",
     "output_type": "stream",
     "text": [
      "26.8 ms ± 871 µs per loop (mean ± std. dev. of 7 runs, 10 loops each)\n"
     ]
    }
   ],
   "source": [
    "%%timeit\n",
    "# Wywołanie z wykorzystaniem funkcji w Pythonie napisanej z użyciem NumPy\n",
    "calc_pi_np()"
   ]
  },
  {
   "cell_type": "code",
   "execution_count": 8,
   "metadata": {},
   "outputs": [
    {
     "data": {
      "text/plain": [
       "1.3"
      ]
     },
     "execution_count": 8,
     "metadata": {},
     "output_type": "execute_result"
    }
   ],
   "source": [
    "26/20"
   ]
  },
  {
   "cell_type": "code",
   "execution_count": null,
   "metadata": {},
   "outputs": [],
   "source": []
  }
 ],
 "metadata": {
  "kernelspec": {
   "display_name": "Python 3",
   "language": "python",
   "name": "python3"
  },
  "language_info": {
   "codemirror_mode": {
    "name": "ipython",
    "version": 3
   },
   "file_extension": ".py",
   "mimetype": "text/x-python",
   "name": "python",
   "nbconvert_exporter": "python",
   "pygments_lexer": "ipython3",
   "version": "3.7.6"
  }
 },
 "nbformat": 4,
 "nbformat_minor": 4
}
