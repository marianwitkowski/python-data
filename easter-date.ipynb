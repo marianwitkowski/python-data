{
 "cells": [
  {
   "cell_type": "markdown",
   "metadata": {},
   "source": [
    "# Algorytmy obliczania daty Wielkanocy"
   ]
  },
  {
   "cell_type": "code",
   "execution_count": 1,
   "metadata": {},
   "outputs": [
    {
     "data": {
      "text/plain": [
       "'2020-04-12'"
      ]
     },
     "execution_count": 1,
     "metadata": {},
     "output_type": "execute_result"
    }
   ],
   "source": [
    "def calc_easter_date1(year):\n",
    "    special_years = ['1954', '1981', '2049', '2076']\n",
    "    specyr_sub = 7\n",
    "    a = year % 19\n",
    "    b = year % 4\n",
    "    c = year % 7\n",
    "    d = (19 * a + 24) % 30\n",
    "    e = ((2 * b) + (4 * c) + (6 * d) + 5) % 7\n",
    "  \n",
    "    if year in special_years:\n",
    "        dateofeaster = (22 + d + e) - specyr_sub\n",
    "    else:\n",
    "        dateofeaster = 22 + d + e\n",
    "\n",
    "    if dateofeaster > 31:\n",
    "        dateofeaster = f\"{year}-04-{dateofeaster - 31:02d}\"\n",
    "    else:\n",
    "        dateofeaster = f\"{year}-03-{dateofeaster - 31:02d}\"\n",
    "    return dateofeaster\n",
    "\n",
    "calc_easter_date1(2020)"
   ]
  },
  {
   "cell_type": "code",
   "execution_count": 2,
   "metadata": {},
   "outputs": [
    {
     "data": {
      "text/plain": [
       "'2020-04-12'"
      ]
     },
     "execution_count": 2,
     "metadata": {},
     "output_type": "execute_result"
    }
   ],
   "source": [
    "def calc_easter_date2(year):\n",
    "    y = year\n",
    "    g = y % 19\n",
    "    e = 0\n",
    "    c = y/100\n",
    "    h = (c-c/4-(8*c+13)/25+19*g+15)%30\n",
    "    i = h-(h/28)*(1-(h/28)*(29/(h+1))*((21-g)/11))\n",
    "    j = (y+y/4+i+2-c+c/4)%7\n",
    "    p = i-j+e\n",
    "    d = 1+(p+27+(p+6)/40)%31\n",
    "    m = 3+(p+26)/30\n",
    "    return f\"{int(y):04d}-{int(m):02d}-{int(d):02d}\"\n",
    "\n",
    "calc_easter_date2(2020)"
   ]
  },
  {
   "cell_type": "code",
   "execution_count": 3,
   "metadata": {},
   "outputs": [
    {
     "name": "stdout",
     "output_type": "stream",
     "text": [
      "Requirement already satisfied: python-dateutil in /usr/local/lib/python3.7/site-packages (2.8.1)\r\n",
      "Requirement already satisfied: six>=1.5 in /usr/local/Cellar/protobuf/3.11.3/libexec/lib/python3.7/site-packages (from python-dateutil) (1.14.0)\r\n"
     ]
    },
    {
     "data": {
      "text/plain": [
       "'2020-04-12'"
      ]
     },
     "execution_count": 3,
     "metadata": {},
     "output_type": "execute_result"
    }
   ],
   "source": [
    "!pip3 install python-dateutil\n",
    "from dateutil.easter import *\n",
    "\n",
    "def calc_easter_date3(year):\n",
    "    return easter(year).strftime('%Y-%m-%d')\n",
    "\n",
    "calc_easter_date3(2020)"
   ]
  },
  {
   "cell_type": "code",
   "execution_count": 4,
   "metadata": {},
   "outputs": [
    {
     "data": {
      "text/plain": [
       "'2020-04-12'"
      ]
     },
     "execution_count": 4,
     "metadata": {},
     "output_type": "execute_result"
    }
   ],
   "source": [
    "def calc_easter_date4(year):\n",
    "    a = year % 19\n",
    "    b = year // 100\n",
    "    c = year % 100\n",
    "    d = (19 * a + b - b // 4 - ((b - (b + 8) // 25 + 1) // 3) + 15) % 30\n",
    "    e = (32 + 2 * (b % 4) + 2 * (c // 4) - d - (c % 4)) % 7\n",
    "    f = d + e - 7 * ((a + 11 * d + 22 * e) // 451) + 114\n",
    "    month = f // 31\n",
    "    day = f % 31 + 1    \n",
    "    return f\"{year:04d}-{month:02d}-{day:02d}\"\n",
    "\n",
    "calc_easter_date4(2020)"
   ]
  },
  {
   "cell_type": "code",
   "execution_count": 5,
   "metadata": {},
   "outputs": [
    {
     "data": {
      "text/plain": [
       "'2020-04-12'"
      ]
     },
     "execution_count": 5,
     "metadata": {},
     "output_type": "execute_result"
    }
   ],
   "source": [
    "def calc_easter_date5(year):\n",
    "    month = 3\n",
    "    golden = (year % 19) + 1\n",
    "    # determine the century number\n",
    "    century = year // 100 + 1\n",
    "    # correct for the years who are not leap years\n",
    "    xx = (3 * century) // 4 - 12\n",
    "    # moon correction\n",
    "    yy = (8 * century + 5) // 25 - 5\n",
    "    # find Sunday\n",
    "    zz = (5 * year) // 4 - xx - 10\n",
    "    # determine epact\n",
    "    # age of moon on January 1st of that year\n",
    "    # (follows a cycle of 19 years)\n",
    "    ee = (11 * golden + 20 + yy - xx) % 30\n",
    "    if ee == 24:\n",
    "        ee += 1\n",
    "    if ee == 25 and golden > 11:\n",
    "        ee += 1\n",
    "    # get the full moon\n",
    "    moon = 44 - ee\n",
    "    if moon < 21:\n",
    "        moon += 30\n",
    "    # up to Sunday\n",
    "    day = (moon + 7) - ((zz + moon) % 7)\n",
    "    # possibly up a month in easter_date\n",
    "    if day > 31:\n",
    "        day -= 31\n",
    "        month = 4\n",
    "    return f\"{year:04d}-{month:02d}-{day:02d}\"\n",
    "\n",
    "\n",
    "calc_easter_date5(2020)"
   ]
  },
  {
   "cell_type": "code",
   "execution_count": null,
   "metadata": {},
   "outputs": [],
   "source": []
  }
 ],
 "metadata": {
  "kernelspec": {
   "display_name": "Python 3",
   "language": "python",
   "name": "python3"
  },
  "language_info": {
   "codemirror_mode": {
    "name": "ipython",
    "version": 3
   },
   "file_extension": ".py",
   "mimetype": "text/x-python",
   "name": "python",
   "nbconvert_exporter": "python",
   "pygments_lexer": "ipython3",
   "version": "3.7.6"
  }
 },
 "nbformat": 4,
 "nbformat_minor": 4
}
