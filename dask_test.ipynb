{
  "nbformat": 4,
  "nbformat_minor": 0,
  "metadata": {
    "colab": {
      "name": "dask-test.ipynb",
      "provenance": [],
      "collapsed_sections": []
    },
    "kernelspec": {
      "name": "python3",
      "display_name": "Python 3"
    }
  },
  "cells": [
    {
      "cell_type": "markdown",
      "metadata": {
        "id": "SpLRfJp5KuAC",
        "colab_type": "text"
      },
      "source": [
        "# Porównanie czasów przetwarzania danych w DataFrame"
      ]
    },
    {
      "cell_type": "code",
      "metadata": {
        "id": "F2yVSc3SBd3P",
        "colab_type": "code",
        "colab": {}
      },
      "source": [
        "import pandas as pd\n",
        "import numpy as np"
      ],
      "execution_count": 0,
      "outputs": []
    },
    {
      "cell_type": "markdown",
      "metadata": {
        "id": "hbjAb_IcHlVI",
        "colab_type": "text"
      },
      "source": [
        "# Generowanie zbioru testowego"
      ]
    },
    {
      "cell_type": "code",
      "metadata": {
        "id": "D3rJ4hydBmhc",
        "colab_type": "code",
        "colab": {}
      },
      "source": [
        "COUNT = 50000\n",
        "df = pd.DataFrame( { x : np.random.randint(1000, size=COUNT) for x in 'ABC' } )"
      ],
      "execution_count": 0,
      "outputs": []
    },
    {
      "cell_type": "code",
      "metadata": {
        "id": "1febXjbiB7pI",
        "colab_type": "code",
        "colab": {
          "base_uri": "https://localhost:8080/",
          "height": 363
        },
        "outputId": "991860eb-c3f9-4da3-9ff9-0fea2c899983"
      },
      "source": [
        "df.sample(n=10)"
      ],
      "execution_count": 3,
      "outputs": [
        {
          "output_type": "execute_result",
          "data": {
            "text/html": [
              "<div>\n",
              "<style scoped>\n",
              "    .dataframe tbody tr th:only-of-type {\n",
              "        vertical-align: middle;\n",
              "    }\n",
              "\n",
              "    .dataframe tbody tr th {\n",
              "        vertical-align: top;\n",
              "    }\n",
              "\n",
              "    .dataframe thead th {\n",
              "        text-align: right;\n",
              "    }\n",
              "</style>\n",
              "<table border=\"1\" class=\"dataframe\">\n",
              "  <thead>\n",
              "    <tr style=\"text-align: right;\">\n",
              "      <th></th>\n",
              "      <th>A</th>\n",
              "      <th>B</th>\n",
              "      <th>C</th>\n",
              "    </tr>\n",
              "  </thead>\n",
              "  <tbody>\n",
              "    <tr>\n",
              "      <th>18949</th>\n",
              "      <td>950</td>\n",
              "      <td>843</td>\n",
              "      <td>701</td>\n",
              "    </tr>\n",
              "    <tr>\n",
              "      <th>24739</th>\n",
              "      <td>470</td>\n",
              "      <td>926</td>\n",
              "      <td>159</td>\n",
              "    </tr>\n",
              "    <tr>\n",
              "      <th>6963</th>\n",
              "      <td>678</td>\n",
              "      <td>395</td>\n",
              "      <td>234</td>\n",
              "    </tr>\n",
              "    <tr>\n",
              "      <th>45913</th>\n",
              "      <td>578</td>\n",
              "      <td>891</td>\n",
              "      <td>937</td>\n",
              "    </tr>\n",
              "    <tr>\n",
              "      <th>21696</th>\n",
              "      <td>535</td>\n",
              "      <td>23</td>\n",
              "      <td>773</td>\n",
              "    </tr>\n",
              "    <tr>\n",
              "      <th>35401</th>\n",
              "      <td>430</td>\n",
              "      <td>342</td>\n",
              "      <td>572</td>\n",
              "    </tr>\n",
              "    <tr>\n",
              "      <th>33301</th>\n",
              "      <td>667</td>\n",
              "      <td>270</td>\n",
              "      <td>60</td>\n",
              "    </tr>\n",
              "    <tr>\n",
              "      <th>267</th>\n",
              "      <td>4</td>\n",
              "      <td>507</td>\n",
              "      <td>425</td>\n",
              "    </tr>\n",
              "    <tr>\n",
              "      <th>39242</th>\n",
              "      <td>981</td>\n",
              "      <td>757</td>\n",
              "      <td>599</td>\n",
              "    </tr>\n",
              "    <tr>\n",
              "      <th>47518</th>\n",
              "      <td>513</td>\n",
              "      <td>897</td>\n",
              "      <td>618</td>\n",
              "    </tr>\n",
              "  </tbody>\n",
              "</table>\n",
              "</div>"
            ],
            "text/plain": [
              "         A    B    C\n",
              "18949  950  843  701\n",
              "24739  470  926  159\n",
              "6963   678  395  234\n",
              "45913  578  891  937\n",
              "21696  535   23  773\n",
              "35401  430  342  572\n",
              "33301  667  270   60\n",
              "267      4  507  425\n",
              "39242  981  757  599\n",
              "47518  513  897  618"
            ]
          },
          "metadata": {
            "tags": []
          },
          "execution_count": 3
        }
      ]
    },
    {
      "cell_type": "markdown",
      "metadata": {
        "id": "9Ws3m9zsHp-A",
        "colab_type": "text"
      },
      "source": [
        "### Deklaracja metody przetwarzającej dane z kolumn"
      ]
    },
    {
      "cell_type": "code",
      "metadata": {
        "id": "XADiJEyBB8vc",
        "colab_type": "code",
        "colab": {}
      },
      "source": [
        "def sub_sqrt(df):\n",
        "    return  np.sqrt(df.A)-np.sqrt(df.B)-np.sqrt(df.C)"
      ],
      "execution_count": 0,
      "outputs": []
    },
    {
      "cell_type": "markdown",
      "metadata": {
        "id": "nR0fCcnPEurO",
        "colab_type": "text"
      },
      "source": [
        "# Apply"
      ]
    },
    {
      "cell_type": "code",
      "metadata": {
        "id": "qX-WF3jfCW4t",
        "colab_type": "code",
        "colab": {
          "base_uri": "https://localhost:8080/",
          "height": 34
        },
        "outputId": "17070695-458b-4c36-e11e-1efd26bd1f21"
      },
      "source": [
        "%%timeit -r 1 -n 10\n",
        "df['sub_sqrt']=df.apply(sub_sqrt,axis=1)"
      ],
      "execution_count": 5,
      "outputs": [
        {
          "output_type": "stream",
          "text": [
            "10 loops, best of 1: 2.68 s per loop\n"
          ],
          "name": "stdout"
        }
      ]
    },
    {
      "cell_type": "markdown",
      "metadata": {
        "id": "CmtH9SZsFL25",
        "colab_type": "text"
      },
      "source": [
        "# Dask"
      ]
    },
    {
      "cell_type": "markdown",
      "metadata": {
        "id": "ajBuaDJoHzuH",
        "colab_type": "text"
      },
      "source": [
        "Konieczność instalacji: `pip install dask`"
      ]
    },
    {
      "cell_type": "code",
      "metadata": {
        "id": "JF21X9c6CceW",
        "colab_type": "code",
        "colab": {}
      },
      "source": [
        "import dask.dataframe as dd\n",
        "ddf = dd.from_pandas(df, npartitions=5)"
      ],
      "execution_count": 0,
      "outputs": []
    },
    {
      "cell_type": "code",
      "metadata": {
        "id": "US4HHU-KDJX6",
        "colab_type": "code",
        "colab": {
          "base_uri": "https://localhost:8080/",
          "height": 34
        },
        "outputId": "09dbcc4b-1101-49ac-d197-15b12c640d6d"
      },
      "source": [
        "%%timeit -r 1 -n 10\n",
        "ddf ['sub_sqrt'] = ddf.map_partitions(sub_sqrt,meta=(None, 'int64')).compute()"
      ],
      "execution_count": 7,
      "outputs": [
        {
          "output_type": "stream",
          "text": [
            "10 loops, best of 1: 49 ms per loop\n"
          ],
          "name": "stdout"
        }
      ]
    },
    {
      "cell_type": "markdown",
      "metadata": {
        "id": "vRUWU1KnEWRR",
        "colab_type": "text"
      },
      "source": [
        "# Swifter"
      ]
    },
    {
      "cell_type": "code",
      "metadata": {
        "id": "Bey1DzV0DzgG",
        "colab_type": "code",
        "colab": {}
      },
      "source": [
        "import swifter"
      ],
      "execution_count": 0,
      "outputs": []
    },
    {
      "cell_type": "markdown",
      "metadata": {
        "id": "iLmH0hh5Io5b",
        "colab_type": "text"
      },
      "source": [
        "Konieczność instalacji: `pip install swifter`"
      ]
    },
    {
      "cell_type": "code",
      "metadata": {
        "id": "XE1L_wEjFi6N",
        "colab_type": "code",
        "colab": {}
      },
      "source": [
        "def sub_sqrt(a,b,c):\n",
        "    return  np.sqrt(a)-np.sqrt(b)-np.sqrt(c)"
      ],
      "execution_count": 0,
      "outputs": []
    },
    {
      "cell_type": "code",
      "metadata": {
        "id": "lGcyL9NjFtOU",
        "colab_type": "code",
        "colab": {
          "base_uri": "https://localhost:8080/",
          "height": 34
        },
        "outputId": "f15eaea6-99c7-40da-f5c8-e955764efb66"
      },
      "source": [
        "%%timeit -r 1 -n 10\n",
        "df['sub_sqrt']=df.swifter.apply(lambda row:sub_sqrt(row.A,row.B,row.C),axis=1)"
      ],
      "execution_count": 10,
      "outputs": [
        {
          "output_type": "stream",
          "text": [
            "10 loops, best of 1: 5.39 ms per loop\n"
          ],
          "name": "stdout"
        }
      ]
    },
    {
      "cell_type": "markdown",
      "metadata": {
        "id": "OfaZ1INPHAGI",
        "colab_type": "text"
      },
      "source": [
        "# Wektoryzacja funkcji"
      ]
    },
    {
      "cell_type": "code",
      "metadata": {
        "id": "V53St8I6HEP-",
        "colab_type": "code",
        "colab": {
          "base_uri": "https://localhost:8080/",
          "height": 34
        },
        "outputId": "b41b938c-248b-4539-f14f-68a9515bd61a"
      },
      "source": [
        "%%timeit -r 1 -n 10\n",
        "df ['sub_sqrt']=sub_sqrt(df.A,df.B,df.C)"
      ],
      "execution_count": 11,
      "outputs": [
        {
          "output_type": "stream",
          "text": [
            "10 loops, best of 1: 2.17 ms per loop\n"
          ],
          "name": "stdout"
        }
      ]
    },
    {
      "cell_type": "code",
      "metadata": {
        "id": "e6YnatYRHLuM",
        "colab_type": "code",
        "colab": {}
      },
      "source": [
        ""
      ],
      "execution_count": 0,
      "outputs": []
    },
    {
      "cell_type": "markdown",
      "metadata": {
        "id": "fptzTSHMI2s-",
        "colab_type": "text"
      },
      "source": [
        "Porównanie"
      ]
    },
    {
      "cell_type": "code",
      "metadata": {
        "id": "MeZGu0i6I3wD",
        "colab_type": "code",
        "colab": {
          "base_uri": "https://localhost:8080/",
          "height": 175
        },
        "outputId": "7ad1f4d6-e4ea-413b-a4e6-fcc7a87083a1"
      },
      "source": [
        "df_result = pd.DataFrame({\n",
        "    \"Metoda\" : [\"Apply\", \"Dask\", \"Swifter\", \"Wektoryzacja\"],\n",
        "    \"Czas\" : [2.57*1000, 47, 5.18, 2.89]\n",
        "})\n",
        "df_result"
      ],
      "execution_count": 12,
      "outputs": [
        {
          "output_type": "execute_result",
          "data": {
            "text/html": [
              "<div>\n",
              "<style scoped>\n",
              "    .dataframe tbody tr th:only-of-type {\n",
              "        vertical-align: middle;\n",
              "    }\n",
              "\n",
              "    .dataframe tbody tr th {\n",
              "        vertical-align: top;\n",
              "    }\n",
              "\n",
              "    .dataframe thead th {\n",
              "        text-align: right;\n",
              "    }\n",
              "</style>\n",
              "<table border=\"1\" class=\"dataframe\">\n",
              "  <thead>\n",
              "    <tr style=\"text-align: right;\">\n",
              "      <th></th>\n",
              "      <th>Metoda</th>\n",
              "      <th>Czas</th>\n",
              "    </tr>\n",
              "  </thead>\n",
              "  <tbody>\n",
              "    <tr>\n",
              "      <th>0</th>\n",
              "      <td>Apply</td>\n",
              "      <td>2570.00</td>\n",
              "    </tr>\n",
              "    <tr>\n",
              "      <th>1</th>\n",
              "      <td>Dask</td>\n",
              "      <td>47.00</td>\n",
              "    </tr>\n",
              "    <tr>\n",
              "      <th>2</th>\n",
              "      <td>Swifter</td>\n",
              "      <td>5.18</td>\n",
              "    </tr>\n",
              "    <tr>\n",
              "      <th>3</th>\n",
              "      <td>Wektoryzacja</td>\n",
              "      <td>2.89</td>\n",
              "    </tr>\n",
              "  </tbody>\n",
              "</table>\n",
              "</div>"
            ],
            "text/plain": [
              "         Metoda     Czas\n",
              "0         Apply  2570.00\n",
              "1          Dask    47.00\n",
              "2       Swifter     5.18\n",
              "3  Wektoryzacja     2.89"
            ]
          },
          "metadata": {
            "tags": []
          },
          "execution_count": 12
        }
      ]
    },
    {
      "cell_type": "code",
      "metadata": {
        "id": "_tkLJryjJPsy",
        "colab_type": "code",
        "colab": {
          "base_uri": "https://localhost:8080/",
          "height": 587
        },
        "outputId": "67f60d39-150b-4029-9fd5-8d32162759fa"
      },
      "source": [
        "ax = df_result.plot(kind='bar', x='Metoda', y='Czas', legend=False, grid=True, figsize=(12,8), logy=True, color='orange')\n",
        "ax.set_ylabel('czas w msek.')\n",
        "ax.set_title('Czas przetwarzania - skala logarytmiczna')"
      ],
      "execution_count": 13,
      "outputs": [
        {
          "output_type": "execute_result",
          "data": {
            "text/plain": [
              "Text(0.5, 1.0, 'Czas przetwarzania - skala logarytmiczna')"
            ]
          },
          "metadata": {
            "tags": []
          },
          "execution_count": 13
        },
        {
          "output_type": "display_data",
          "data": {
            "image/png": "[encoded data removed]",
            "text/plain": [
              "<Figure size 864x576 with 1 Axes>"
            ]
          },
          "metadata": {
            "tags": [],
            "needs_background": "light"
          }
        }
      ]
    },
    {
      "cell_type": "code",
      "metadata": {
        "id": "M-BIQIxyJT1J",
        "colab_type": "code",
        "colab": {}
      },
      "source": [
        ""
      ],
      "execution_count": 0,
      "outputs": []
    }
  ]
}