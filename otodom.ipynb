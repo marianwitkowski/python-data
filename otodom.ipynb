{
  "nbformat": 4,
  "nbformat_minor": 0,
  "metadata": {
    "kernelspec": {
      "display_name": "Python 3",
      "language": "python",
      "name": "python3"
    },
    "language_info": {
      "codemirror_mode": {
        "name": "ipython",
        "version": 3
      },
      "file_extension": ".py",
      "mimetype": "text/x-python",
      "name": "python",
      "nbconvert_exporter": "python",
      "pygments_lexer": "ipython3",
      "version": "3.7.4"
    },
    "colab": {
      "name": "otodom.ipynb",
      "provenance": [],
      "collapsed_sections": []
    }
  },
  "cells": [
    {
      "cell_type": "markdown",
      "metadata": {
        "id": "dTmWz2c1CpSm",
        "colab_type": "text"
      },
      "source": [
        "# Analiza ogłoszeń w serwisie otodom.pl"
      ]
    },
    {
      "cell_type": "markdown",
      "metadata": {
        "id": "i87dihBOCpSs",
        "colab_type": "text"
      },
      "source": [
        "Analiza dotyczy 17000 ogłoszeń z terenu miasta Warszawa; mieszkania - stan na 29.01.2020"
      ]
    },
    {
      "cell_type": "markdown",
      "metadata": {
        "id": "aUwuvwM3CpSy",
        "colab_type": "text"
      },
      "source": [
        "<strong>\n",
        "            <a href='https://www.linkedin.com/in/marianwitkowski/' target=\"_parent\">  Marian Witkowski</a>    </strong>"
      ]
    },
    {
      "cell_type": "code",
      "metadata": {
        "id": "t_9KWEEECpS1",
        "colab_type": "code",
        "colab": {}
      },
      "source": [
        "import pandas as pd\n",
        "import matplotlib.pyplot as plt\n",
        "import seaborn as sns\n",
        "import matplotlib.ticker as mtick\n",
        "\n",
        "import geopandas\n",
        "import zipfile, re, os\n",
        "\n",
        "import warnings\n",
        "warnings.filterwarnings('ignore')"
      ],
      "execution_count": 0,
      "outputs": []
    },
    {
      "cell_type": "code",
      "metadata": {
        "id": "frYhEWrhCpTG",
        "colab_type": "code",
        "colab": {
          "base_uri": "https://localhost:8080/",
          "height": 293
        },
        "outputId": "b3211847-e591-49f0-ae9a-4ec0a60e5fec"
      },
      "source": [
        "df = pd.read_csv(\"otomoto-head.csv\", sep=';', na_values=['None'])\n",
        "df = df[df.columns[1:]]\n",
        "df.head()"
      ],
      "execution_count": 2,
      "outputs": [
        {
          "output_type": "execute_result",
          "data": {
            "text/html": [
              "<div>\n",
              "<style scoped>\n",
              "    .dataframe tbody tr th:only-of-type {\n",
              "        vertical-align: middle;\n",
              "    }\n",
              "\n",
              "    .dataframe tbody tr th {\n",
              "        vertical-align: top;\n",
              "    }\n",
              "\n",
              "    .dataframe thead th {\n",
              "        text-align: right;\n",
              "    }\n",
              "</style>\n",
              "<table border=\"1\" class=\"dataframe\">\n",
              "  <thead>\n",
              "    <tr style=\"text-align: right;\">\n",
              "      <th></th>\n",
              "      <th>Lp</th>\n",
              "      <th>ID</th>\n",
              "      <th>url</th>\n",
              "      <th>title</th>\n",
              "      <th>rooms</th>\n",
              "      <th>price</th>\n",
              "      <th>price_m2</th>\n",
              "      <th>area</th>\n",
              "      <th>loc</th>\n",
              "    </tr>\n",
              "  </thead>\n",
              "  <tbody>\n",
              "    <tr>\n",
              "      <th>0</th>\n",
              "      <td>1</td>\n",
              "      <td>44lPr</td>\n",
              "      <td>https://www.otodom.pl/oferta/mieszkanie-38-1m-...</td>\n",
              "      <td>Mieszkanie 38,1m 2 +komórka lokatorska 7,9m2 W...</td>\n",
              "      <td>2</td>\n",
              "      <td>420000.0</td>\n",
              "      <td>11024.0</td>\n",
              "      <td>38.10</td>\n",
              "      <td>Targówek, Targówek Fabryczny</td>\n",
              "    </tr>\n",
              "    <tr>\n",
              "      <th>1</th>\n",
              "      <td>2</td>\n",
              "      <td>41amC</td>\n",
              "      <td>https://www.otodom.pl/oferta/port-67-ID41amC.h...</td>\n",
              "      <td>Port 67</td>\n",
              "      <td>3</td>\n",
              "      <td>NaN</td>\n",
              "      <td>NaN</td>\n",
              "      <td>66.93</td>\n",
              "      <td>Praga-Północ</td>\n",
              "    </tr>\n",
              "    <tr>\n",
              "      <th>2</th>\n",
              "      <td>3</td>\n",
              "      <td>42baq</td>\n",
              "      <td>https://www.otodom.pl/oferta/niepowtarzalny-ap...</td>\n",
              "      <td>Niepowtarzalny Apartament na Wilanowie, z ogro...</td>\n",
              "      <td>4</td>\n",
              "      <td>1385000.0</td>\n",
              "      <td>13850.0</td>\n",
              "      <td>100.00</td>\n",
              "      <td>Wilanów</td>\n",
              "    </tr>\n",
              "    <tr>\n",
              "      <th>3</th>\n",
              "      <td>4</td>\n",
              "      <td>44rv3</td>\n",
              "      <td>https://www.otodom.pl/oferta/3-pokoje-blisko-d...</td>\n",
              "      <td>3 pokoje blisko do centrum Okazja</td>\n",
              "      <td>3</td>\n",
              "      <td>549000.0</td>\n",
              "      <td>10558.0</td>\n",
              "      <td>52.00</td>\n",
              "      <td>Śródmieście</td>\n",
              "    </tr>\n",
              "    <tr>\n",
              "      <th>4</th>\n",
              "      <td>5</td>\n",
              "      <td>44rv2</td>\n",
              "      <td>https://www.otodom.pl/oferta/4-5-pokoi-dla-rod...</td>\n",
              "      <td>4-5 pokoi dla Rodziny dskonała lokalizacja -b....</td>\n",
              "      <td>4</td>\n",
              "      <td>979000.0</td>\n",
              "      <td>9790.0</td>\n",
              "      <td>100.00</td>\n",
              "      <td>Śródmieście</td>\n",
              "    </tr>\n",
              "  </tbody>\n",
              "</table>\n",
              "</div>"
            ],
            "text/plain": [
              "   Lp     ID  ...    area                           loc\n",
              "0   1  44lPr  ...   38.10  Targówek, Targówek Fabryczny\n",
              "1   2  41amC  ...   66.93                  Praga-Północ\n",
              "2   3  42baq  ...  100.00                       Wilanów\n",
              "3   4  44rv3  ...   52.00                   Śródmieście\n",
              "4   5  44rv2  ...  100.00                   Śródmieście\n",
              "\n",
              "[5 rows x 9 columns]"
            ]
          },
          "metadata": {
            "tags": []
          },
          "execution_count": 2
        }
      ]
    },
    {
      "cell_type": "code",
      "metadata": {
        "id": "fw4d2a0rCpTQ",
        "colab_type": "code",
        "colab": {}
      },
      "source": [
        "def get_district(s):\n",
        "    items = s.split(\",\")\n",
        "    if len(items)==0:\n",
        "        return s.upper().strip()\n",
        "    return items[0].upper().strip()\n",
        "\n",
        "df[\"district\"] = df[\"loc\"].apply(get_district)"
      ],
      "execution_count": 0,
      "outputs": []
    },
    {
      "cell_type": "code",
      "metadata": {
        "collapsed": true,
        "id": "rPoq9QBMCpTZ",
        "colab_type": "code",
        "colab": {}
      },
      "source": [
        "df_district = df.groupby('district').size().to_frame()\n",
        "df_district.columns = ['qnty']\n",
        "df_district"
      ],
      "execution_count": 0,
      "outputs": []
    },
    {
      "cell_type": "code",
      "metadata": {
        "id": "K7-HlLzWCpTj",
        "colab_type": "code",
        "colab": {}
      },
      "source": [
        "def read_shape_from_zip(zip_filename, entry_name_regex):\n",
        "    z = zipfile.ZipFile(zip_filename, mode=\"r\")\n",
        "    dbf_name = list(filter(\n",
        "            lambda x: re.match(entry_name_regex + r'.*\\.dbf$', os.path.basename(x)), \n",
        "            z.namelist()\n",
        "    ))[0]\n",
        "    z.close()\n",
        "    return geopandas.read_file(dbf_name, encoding='utf-8', vfs='zip://'+zip_filename)"
      ],
      "execution_count": 0,
      "outputs": []
    },
    {
      "cell_type": "code",
      "metadata": {
        "id": "efNs1t-nCpTr",
        "colab_type": "code",
        "colab": {}
      },
      "source": [
        "# https://gis-support.pl/wp-content/uploads/dzielnice_Warszawy.zip\n",
        "districts = read_shape_from_zip(\"dzielnice_Warszawy.zip\", \"dzielnice_Warszawy\")\n",
        "districts[\"nazwa_dzie\"] = districts[\"nazwa_dzie\"].str.upper()"
      ],
      "execution_count": 0,
      "outputs": []
    },
    {
      "cell_type": "code",
      "metadata": {
        "collapsed": true,
        "id": "9f_mZ0HXCpTw",
        "colab_type": "code",
        "colab": {}
      },
      "source": [
        "df_district_qnty = pd.merge(districts, df_district, left_on='nazwa_dzie', right_index=True)\n",
        "df_district_qnty.sort_values('qnty',ascending=False)"
      ],
      "execution_count": 0,
      "outputs": []
    },
    {
      "cell_type": "code",
      "metadata": {
        "id": "nXqk22aWCpT6",
        "colab_type": "code",
        "colab": {
          "base_uri": "https://localhost:8080/",
          "height": 629
        },
        "outputId": "58cffee4-bb5e-4038-b123-d5b8fb455dbd"
      },
      "source": [
        "fig, ax = plt.subplots(figsize=(10, 10))\n",
        "df_district_qnty.plot(column='qnty', cmap='autumn_r', linewidth=1.5, ax=ax)\n",
        "\n",
        "vmin, vmax = df_district_qnty['qnty'].min(), df_district_qnty['qnty'].max()\n",
        "sm = plt.cm.ScalarMappable(cmap='autumn_r', norm=plt.Normalize(vmin=vmin, vmax=vmax))\n",
        "sm._A = []\n",
        "fig.colorbar(sm, shrink=0.5, ax=ax)\n",
        "\n",
        "ax.grid(False)\n",
        "ax.set_axis_off()\n",
        "ax.set_title(\"Liczba ogłoszeń w dzielnicach\")\n",
        "plt.tight_layout()\n",
        "plt.show()"
      ],
      "execution_count": 8,
      "outputs": [
        {
          "output_type": "display_data",
          "data": {
            "image/png": "[encoded data removed]",
            "text/plain": [
              "<Figure size 720x720 with 2 Axes>"
            ]
          },
          "metadata": {
            "tags": []
          }
        }
      ]
    },
    {
      "cell_type": "markdown",
      "metadata": {
        "id": "xnoopz40CpUA",
        "colab_type": "text"
      },
      "source": [
        "## Wykres rozproszenia - powierzchnia vs cena"
      ]
    },
    {
      "cell_type": "code",
      "metadata": {
        "id": "GJh2v8tfCpUC",
        "colab_type": "code",
        "colab": {
          "base_uri": "https://localhost:8080/",
          "height": 729
        },
        "outputId": "de51b5e9-7280-47c3-e4c9-2e1171b33464"
      },
      "source": [
        "df[\"price_k_pln\"] = df[\"price\"]/1000.0\n",
        "sns.jointplot(x='area',y='price_k_pln',data=df[(df.area<400) & (df.price<2E6)], \n",
        "              height=10, color='red')\n",
        "plt.gca().yaxis.set_major_formatter(mtick.FormatStrFormatter('%.3f'))\n",
        "plt.xlabel('powierzchnia [m2]')\n",
        "plt.ylabel('cena [tys. PLN]')\n",
        "plt.show()"
      ],
      "execution_count": 9,
      "outputs": [
        {
          "output_type": "display_data",
          "data": {
            "image/png": "[encoded data removed]",
            "text/plain": [
              "<Figure size 720x720 with 3 Axes>"
            ]
          },
          "metadata": {
            "tags": []
          }
        }
      ]
    },
    {
      "cell_type": "markdown",
      "metadata": {
        "id": "5dLRzHikCpUK",
        "colab_type": "text"
      },
      "source": [
        "## Histogram dla liczby pokojów"
      ]
    },
    {
      "cell_type": "code",
      "metadata": {
        "id": "5U3smS-zCpUM",
        "colab_type": "code",
        "colab": {
          "base_uri": "https://localhost:8080/",
          "height": 497
        },
        "outputId": "49f2a94e-9258-4b47-963b-714aea0d55ab"
      },
      "source": [
        "plt.figure(figsize=(8,8))\n",
        "sns.distplot(df.rooms, bins=10, kde=False, color='red')\n",
        "plt.grid()"
      ],
      "execution_count": 10,
      "outputs": [
        {
          "output_type": "display_data",
          "data": {
            "image/png": "[encoded data removed]",
            "text/plain": [
              "<Figure size 576x576 with 1 Axes>"
            ]
          },
          "metadata": {
            "tags": []
          }
        }
      ]
    },
    {
      "cell_type": "markdown",
      "metadata": {
        "id": "YZnUyIHoCpUU",
        "colab_type": "text"
      },
      "source": [
        "## Histogram dla cena/m2"
      ]
    },
    {
      "cell_type": "code",
      "metadata": {
        "id": "Kmqu4qoXCpUV",
        "colab_type": "code",
        "colab": {
          "base_uri": "https://localhost:8080/",
          "height": 498
        },
        "outputId": "40ff62f7-f511-4c38-b865-1b0bca1ec600"
      },
      "source": [
        "plt.figure(figsize=(8,8))\n",
        "sns.distplot(df.price_m2[df.price_m2<40000], bins=30, kde=False, color='red')\n",
        "plt.grid()"
      ],
      "execution_count": 11,
      "outputs": [
        {
          "output_type": "display_data",
          "data": {
            "image/png": "[encoded data removed]",
            "text/plain": [
              "<Figure size 576x576 with 1 Axes>"
            ]
          },
          "metadata": {
            "tags": []
          }
        }
      ]
    },
    {
      "cell_type": "markdown",
      "metadata": {
        "id": "q-7BueU0CpUc",
        "colab_type": "text"
      },
      "source": [
        "## Histogram dla ceny nieruchomości"
      ]
    },
    {
      "cell_type": "code",
      "metadata": {
        "id": "_7RGG0DnCpUf",
        "colab_type": "code",
        "colab": {
          "base_uri": "https://localhost:8080/",
          "height": 497
        },
        "outputId": "51592531-4f0f-44a4-9658-1e4ab1ddd045"
      },
      "source": [
        "plt.figure(figsize=(8,8))\n",
        "sns.distplot(df.price[df.price<2500000], bins=30, kde=False, color='red')\n",
        "plt.grid()"
      ],
      "execution_count": 12,
      "outputs": [
        {
          "output_type": "display_data",
          "data": {
            "image/png": "[encoded data removed]",
            "text/plain": [
              "<Figure size 576x576 with 1 Axes>"
            ]
          },
          "metadata": {
            "tags": []
          }
        }
      ]
    },
    {
      "cell_type": "markdown",
      "metadata": {
        "id": "fpPhA42YCpUl",
        "colab_type": "text"
      },
      "source": [
        "## Liczba ogłoszeń dla poszczególnych dzielnic"
      ]
    },
    {
      "cell_type": "code",
      "metadata": {
        "id": "4MBOkBCsCpUn",
        "colab_type": "code",
        "colab": {
          "base_uri": "https://localhost:8080/",
          "height": 863
        },
        "outputId": "76b79355-c606-45f9-8ff1-23e9a471a62a"
      },
      "source": [
        "df[\"loc\"].value_counts().sort_values(ascending=False).head(20).plot(kind='barh', \n",
        "                                                            figsize=(15,15), color='red', grid=True)\n",
        "plt.show()"
      ],
      "execution_count": 13,
      "outputs": [
        {
          "output_type": "display_data",
          "data": {
            "image/png": "[encoded data removed]",
            "text/plain": [
              "<Figure size 1080x1080 with 1 Axes>"
            ]
          },
          "metadata": {
            "tags": []
          }
        }
      ]
    },
    {
      "cell_type": "code",
      "metadata": {
        "id": "6D4cwLOYCpUt",
        "colab_type": "code",
        "colab": {
          "base_uri": "https://localhost:8080/",
          "height": 504
        },
        "outputId": "27e0f845-6c64-4d92-a01d-2fc1ba00b4b5"
      },
      "source": [
        "df_feature = pd.read_csv(\"otomoto-details.csv\", sep=';')\n",
        "del(df_feature[\"Unnamed: 0\"])\n",
        "del(df_feature[\"feat_\"])\n",
        "df_feature.head()"
      ],
      "execution_count": 14,
      "outputs": [
        {
          "output_type": "execute_result",
          "data": {
            "text/html": [
              "<div>\n",
              "<style scoped>\n",
              "    .dataframe tbody tr th:only-of-type {\n",
              "        vertical-align: middle;\n",
              "    }\n",
              "\n",
              "    .dataframe tbody tr th {\n",
              "        vertical-align: top;\n",
              "    }\n",
              "\n",
              "    .dataframe thead th {\n",
              "        text-align: right;\n",
              "    }\n",
              "</style>\n",
              "<table border=\"1\" class=\"dataframe\">\n",
              "  <thead>\n",
              "    <tr style=\"text-align: right;\">\n",
              "      <th></th>\n",
              "      <th>ID</th>\n",
              "      <th>descr</th>\n",
              "      <th>feat_balkon</th>\n",
              "      <th>feat_domofon / wideofon</th>\n",
              "      <th>feat_drzwi / okna antywłamaniowe</th>\n",
              "      <th>feat_internet</th>\n",
              "      <th>feat_pom. użytkowe</th>\n",
              "      <th>feat_telefon</th>\n",
              "      <th>feat_telewizja kablowa</th>\n",
              "      <th>feat_teren zamknięty</th>\n",
              "      <th>ov_Liczba pięter</th>\n",
              "      <th>ov_Liczba pokoi</th>\n",
              "      <th>ov_Piętro</th>\n",
              "      <th>ov_Powierzchnia</th>\n",
              "      <th>ov_Rodzaj zabudowy</th>\n",
              "      <th>ov_Rynek</th>\n",
              "      <th>ov_Czynsz</th>\n",
              "      <th>ov_Dostępne od</th>\n",
              "      <th>ov_Forma własności</th>\n",
              "      <th>ov_Materiał budynku</th>\n",
              "      <th>ov_Ogrzewanie</th>\n",
              "      <th>ov_Okna</th>\n",
              "      <th>ov_Rok budowy</th>\n",
              "      <th>ov_Stan wykończenia</th>\n",
              "      <th>feat_garaż/miejsce parkingowe</th>\n",
              "      <th>feat_ogródek</th>\n",
              "      <th>feat_piwnica</th>\n",
              "      <th>feat_taras</th>\n",
              "      <th>feat_winda</th>\n",
              "      <th>feat_monitoring / ochrona</th>\n",
              "      <th>feat_system alarmowy</th>\n",
              "      <th>feat_klimatyzacja</th>\n",
              "      <th>feat_oddzielna kuchnia</th>\n",
              "      <th>feat_kuchenka</th>\n",
              "      <th>feat_meble</th>\n",
              "      <th>feat_piekarnik</th>\n",
              "      <th>feat_lodówka</th>\n",
              "      <th>feat_zmywarka</th>\n",
              "      <th>feat_pralka</th>\n",
              "      <th>feat_dwupoziomowe</th>\n",
              "      <th>feat_telewizor</th>\n",
              "      <th>feat_rolety antywłamaniowe</th>\n",
              "    </tr>\n",
              "  </thead>\n",
              "  <tbody>\n",
              "    <tr>\n",
              "      <th>0</th>\n",
              "      <td>43E0a</td>\n",
              "      <td>BEZPOŚREDNIO/ 0% PROWIZJI / BEZ PODATKU PCCWyj...</td>\n",
              "      <td>1.0</td>\n",
              "      <td>1.0</td>\n",
              "      <td>1.0</td>\n",
              "      <td>1.0</td>\n",
              "      <td>1.0</td>\n",
              "      <td>1.0</td>\n",
              "      <td>1.0</td>\n",
              "      <td>1.0</td>\n",
              "      <td>2.0</td>\n",
              "      <td>3</td>\n",
              "      <td>1</td>\n",
              "      <td>67 m²</td>\n",
              "      <td>dom wolnostojący</td>\n",
              "      <td>pierwotny</td>\n",
              "      <td>NaN</td>\n",
              "      <td>NaN</td>\n",
              "      <td>NaN</td>\n",
              "      <td>NaN</td>\n",
              "      <td>NaN</td>\n",
              "      <td>NaN</td>\n",
              "      <td>NaN</td>\n",
              "      <td>NaN</td>\n",
              "      <td>NaN</td>\n",
              "      <td>NaN</td>\n",
              "      <td>NaN</td>\n",
              "      <td>NaN</td>\n",
              "      <td>NaN</td>\n",
              "      <td>NaN</td>\n",
              "      <td>NaN</td>\n",
              "      <td>NaN</td>\n",
              "      <td>NaN</td>\n",
              "      <td>NaN</td>\n",
              "      <td>NaN</td>\n",
              "      <td>NaN</td>\n",
              "      <td>NaN</td>\n",
              "      <td>NaN</td>\n",
              "      <td>NaN</td>\n",
              "      <td>NaN</td>\n",
              "      <td>NaN</td>\n",
              "      <td>NaN</td>\n",
              "    </tr>\n",
              "    <tr>\n",
              "      <th>1</th>\n",
              "      <td>440aD</td>\n",
              "      <td>Sprzedam dwupokojowe mieszkanie (39 mkw) w Śró...</td>\n",
              "      <td>NaN</td>\n",
              "      <td>1.0</td>\n",
              "      <td>NaN</td>\n",
              "      <td>1.0</td>\n",
              "      <td>NaN</td>\n",
              "      <td>NaN</td>\n",
              "      <td>NaN</td>\n",
              "      <td>NaN</td>\n",
              "      <td>3.0</td>\n",
              "      <td>2</td>\n",
              "      <td>parter</td>\n",
              "      <td>39,10 m²</td>\n",
              "      <td>kamienica</td>\n",
              "      <td>wtórny</td>\n",
              "      <td>240 zł</td>\n",
              "      <td>2019-12-23</td>\n",
              "      <td>pełna własność</td>\n",
              "      <td>cegła</td>\n",
              "      <td>miejskie</td>\n",
              "      <td>plastikowe</td>\n",
              "      <td>1948.0</td>\n",
              "      <td>do zamieszkania</td>\n",
              "      <td>NaN</td>\n",
              "      <td>NaN</td>\n",
              "      <td>NaN</td>\n",
              "      <td>NaN</td>\n",
              "      <td>NaN</td>\n",
              "      <td>NaN</td>\n",
              "      <td>NaN</td>\n",
              "      <td>NaN</td>\n",
              "      <td>NaN</td>\n",
              "      <td>NaN</td>\n",
              "      <td>NaN</td>\n",
              "      <td>NaN</td>\n",
              "      <td>NaN</td>\n",
              "      <td>NaN</td>\n",
              "      <td>NaN</td>\n",
              "      <td>NaN</td>\n",
              "      <td>NaN</td>\n",
              "      <td>NaN</td>\n",
              "    </tr>\n",
              "    <tr>\n",
              "      <th>2</th>\n",
              "      <td>44qDX</td>\n",
              "      <td>Tarchomin-Nowodwory ul.Odkryta/Hanki Ordonówny...</td>\n",
              "      <td>NaN</td>\n",
              "      <td>NaN</td>\n",
              "      <td>NaN</td>\n",
              "      <td>NaN</td>\n",
              "      <td>NaN</td>\n",
              "      <td>NaN</td>\n",
              "      <td>NaN</td>\n",
              "      <td>NaN</td>\n",
              "      <td>5.0</td>\n",
              "      <td>3</td>\n",
              "      <td>parter</td>\n",
              "      <td>77 m²</td>\n",
              "      <td>apartamentowiec</td>\n",
              "      <td>wtórny</td>\n",
              "      <td>718 zł</td>\n",
              "      <td>NaN</td>\n",
              "      <td>NaN</td>\n",
              "      <td>cegła</td>\n",
              "      <td>miejskie</td>\n",
              "      <td>plastikowe</td>\n",
              "      <td>2012.0</td>\n",
              "      <td>NaN</td>\n",
              "      <td>1.0</td>\n",
              "      <td>1.0</td>\n",
              "      <td>1.0</td>\n",
              "      <td>1.0</td>\n",
              "      <td>1.0</td>\n",
              "      <td>NaN</td>\n",
              "      <td>NaN</td>\n",
              "      <td>NaN</td>\n",
              "      <td>NaN</td>\n",
              "      <td>NaN</td>\n",
              "      <td>NaN</td>\n",
              "      <td>NaN</td>\n",
              "      <td>NaN</td>\n",
              "      <td>NaN</td>\n",
              "      <td>NaN</td>\n",
              "      <td>NaN</td>\n",
              "      <td>NaN</td>\n",
              "      <td>NaN</td>\n",
              "    </tr>\n",
              "    <tr>\n",
              "      <th>3</th>\n",
              "      <td>44noR</td>\n",
              "      <td>Zapraszam na prezentację lokalu w najbliższą n...</td>\n",
              "      <td>NaN</td>\n",
              "      <td>NaN</td>\n",
              "      <td>NaN</td>\n",
              "      <td>NaN</td>\n",
              "      <td>1.0</td>\n",
              "      <td>NaN</td>\n",
              "      <td>NaN</td>\n",
              "      <td>NaN</td>\n",
              "      <td>8.0</td>\n",
              "      <td>3</td>\n",
              "      <td>3</td>\n",
              "      <td>76,80 m²</td>\n",
              "      <td>apartamentowiec</td>\n",
              "      <td>wtórny</td>\n",
              "      <td>480 zł</td>\n",
              "      <td>NaN</td>\n",
              "      <td>NaN</td>\n",
              "      <td>cegła</td>\n",
              "      <td>miejskie</td>\n",
              "      <td>NaN</td>\n",
              "      <td>2009.0</td>\n",
              "      <td>do remontu</td>\n",
              "      <td>1.0</td>\n",
              "      <td>NaN</td>\n",
              "      <td>1.0</td>\n",
              "      <td>NaN</td>\n",
              "      <td>1.0</td>\n",
              "      <td>NaN</td>\n",
              "      <td>NaN</td>\n",
              "      <td>NaN</td>\n",
              "      <td>NaN</td>\n",
              "      <td>NaN</td>\n",
              "      <td>NaN</td>\n",
              "      <td>NaN</td>\n",
              "      <td>NaN</td>\n",
              "      <td>NaN</td>\n",
              "      <td>NaN</td>\n",
              "      <td>NaN</td>\n",
              "      <td>NaN</td>\n",
              "      <td>NaN</td>\n",
              "    </tr>\n",
              "    <tr>\n",
              "      <th>4</th>\n",
              "      <td>3RekE</td>\n",
              "      <td>Klimat Saskiej Kępy\\nSaska Kępa to jedna z naj...</td>\n",
              "      <td>1.0</td>\n",
              "      <td>1.0</td>\n",
              "      <td>NaN</td>\n",
              "      <td>1.0</td>\n",
              "      <td>NaN</td>\n",
              "      <td>1.0</td>\n",
              "      <td>1.0</td>\n",
              "      <td>1.0</td>\n",
              "      <td>2.0</td>\n",
              "      <td>3</td>\n",
              "      <td>1</td>\n",
              "      <td>106 m²</td>\n",
              "      <td>apartamentowiec</td>\n",
              "      <td>pierwotny</td>\n",
              "      <td>NaN</td>\n",
              "      <td>NaN</td>\n",
              "      <td>pełna własność</td>\n",
              "      <td>NaN</td>\n",
              "      <td>miejskie</td>\n",
              "      <td>NaN</td>\n",
              "      <td>2018.0</td>\n",
              "      <td>do wykończenia</td>\n",
              "      <td>1.0</td>\n",
              "      <td>NaN</td>\n",
              "      <td>NaN</td>\n",
              "      <td>NaN</td>\n",
              "      <td>1.0</td>\n",
              "      <td>1.0</td>\n",
              "      <td>1.0</td>\n",
              "      <td>NaN</td>\n",
              "      <td>NaN</td>\n",
              "      <td>NaN</td>\n",
              "      <td>NaN</td>\n",
              "      <td>NaN</td>\n",
              "      <td>NaN</td>\n",
              "      <td>NaN</td>\n",
              "      <td>NaN</td>\n",
              "      <td>NaN</td>\n",
              "      <td>NaN</td>\n",
              "      <td>NaN</td>\n",
              "    </tr>\n",
              "  </tbody>\n",
              "</table>\n",
              "</div>"
            ],
            "text/plain": [
              "      ID  ... feat_rolety antywłamaniowe\n",
              "0  43E0a  ...                        NaN\n",
              "1  440aD  ...                        NaN\n",
              "2  44qDX  ...                        NaN\n",
              "3  44noR  ...                        NaN\n",
              "4  3RekE  ...                        NaN\n",
              "\n",
              "[5 rows x 42 columns]"
            ]
          },
          "metadata": {
            "tags": []
          },
          "execution_count": 14
        }
      ]
    },
    {
      "cell_type": "code",
      "metadata": {
        "id": "LKDs9chwCpU0",
        "colab_type": "code",
        "colab": {
          "base_uri": "https://localhost:8080/",
          "height": 504
        },
        "outputId": "3bad47f3-b936-49dd-d876-257d6a946430"
      },
      "source": [
        "cols = list([\"ID\",\"descr\"])\n",
        "cols.extend( list(sorted(df_feature.columns[2:])) )\n",
        "df_feature = df_feature[cols]\n",
        "df_feature.head()"
      ],
      "execution_count": 15,
      "outputs": [
        {
          "output_type": "execute_result",
          "data": {
            "text/html": [
              "<div>\n",
              "<style scoped>\n",
              "    .dataframe tbody tr th:only-of-type {\n",
              "        vertical-align: middle;\n",
              "    }\n",
              "\n",
              "    .dataframe tbody tr th {\n",
              "        vertical-align: top;\n",
              "    }\n",
              "\n",
              "    .dataframe thead th {\n",
              "        text-align: right;\n",
              "    }\n",
              "</style>\n",
              "<table border=\"1\" class=\"dataframe\">\n",
              "  <thead>\n",
              "    <tr style=\"text-align: right;\">\n",
              "      <th></th>\n",
              "      <th>ID</th>\n",
              "      <th>descr</th>\n",
              "      <th>feat_balkon</th>\n",
              "      <th>feat_domofon / wideofon</th>\n",
              "      <th>feat_drzwi / okna antywłamaniowe</th>\n",
              "      <th>feat_dwupoziomowe</th>\n",
              "      <th>feat_garaż/miejsce parkingowe</th>\n",
              "      <th>feat_internet</th>\n",
              "      <th>feat_klimatyzacja</th>\n",
              "      <th>feat_kuchenka</th>\n",
              "      <th>feat_lodówka</th>\n",
              "      <th>feat_meble</th>\n",
              "      <th>feat_monitoring / ochrona</th>\n",
              "      <th>feat_oddzielna kuchnia</th>\n",
              "      <th>feat_ogródek</th>\n",
              "      <th>feat_piekarnik</th>\n",
              "      <th>feat_piwnica</th>\n",
              "      <th>feat_pom. użytkowe</th>\n",
              "      <th>feat_pralka</th>\n",
              "      <th>feat_rolety antywłamaniowe</th>\n",
              "      <th>feat_system alarmowy</th>\n",
              "      <th>feat_taras</th>\n",
              "      <th>feat_telefon</th>\n",
              "      <th>feat_telewizja kablowa</th>\n",
              "      <th>feat_telewizor</th>\n",
              "      <th>feat_teren zamknięty</th>\n",
              "      <th>feat_winda</th>\n",
              "      <th>feat_zmywarka</th>\n",
              "      <th>ov_Czynsz</th>\n",
              "      <th>ov_Dostępne od</th>\n",
              "      <th>ov_Forma własności</th>\n",
              "      <th>ov_Liczba pięter</th>\n",
              "      <th>ov_Liczba pokoi</th>\n",
              "      <th>ov_Materiał budynku</th>\n",
              "      <th>ov_Ogrzewanie</th>\n",
              "      <th>ov_Okna</th>\n",
              "      <th>ov_Piętro</th>\n",
              "      <th>ov_Powierzchnia</th>\n",
              "      <th>ov_Rodzaj zabudowy</th>\n",
              "      <th>ov_Rok budowy</th>\n",
              "      <th>ov_Rynek</th>\n",
              "      <th>ov_Stan wykończenia</th>\n",
              "    </tr>\n",
              "  </thead>\n",
              "  <tbody>\n",
              "    <tr>\n",
              "      <th>0</th>\n",
              "      <td>43E0a</td>\n",
              "      <td>BEZPOŚREDNIO/ 0% PROWIZJI / BEZ PODATKU PCCWyj...</td>\n",
              "      <td>1.0</td>\n",
              "      <td>1.0</td>\n",
              "      <td>1.0</td>\n",
              "      <td>NaN</td>\n",
              "      <td>NaN</td>\n",
              "      <td>1.0</td>\n",
              "      <td>NaN</td>\n",
              "      <td>NaN</td>\n",
              "      <td>NaN</td>\n",
              "      <td>NaN</td>\n",
              "      <td>NaN</td>\n",
              "      <td>NaN</td>\n",
              "      <td>NaN</td>\n",
              "      <td>NaN</td>\n",
              "      <td>NaN</td>\n",
              "      <td>1.0</td>\n",
              "      <td>NaN</td>\n",
              "      <td>NaN</td>\n",
              "      <td>NaN</td>\n",
              "      <td>NaN</td>\n",
              "      <td>1.0</td>\n",
              "      <td>1.0</td>\n",
              "      <td>NaN</td>\n",
              "      <td>1.0</td>\n",
              "      <td>NaN</td>\n",
              "      <td>NaN</td>\n",
              "      <td>NaN</td>\n",
              "      <td>NaN</td>\n",
              "      <td>NaN</td>\n",
              "      <td>2.0</td>\n",
              "      <td>3</td>\n",
              "      <td>NaN</td>\n",
              "      <td>NaN</td>\n",
              "      <td>NaN</td>\n",
              "      <td>1</td>\n",
              "      <td>67 m²</td>\n",
              "      <td>dom wolnostojący</td>\n",
              "      <td>NaN</td>\n",
              "      <td>pierwotny</td>\n",
              "      <td>NaN</td>\n",
              "    </tr>\n",
              "    <tr>\n",
              "      <th>1</th>\n",
              "      <td>440aD</td>\n",
              "      <td>Sprzedam dwupokojowe mieszkanie (39 mkw) w Śró...</td>\n",
              "      <td>NaN</td>\n",
              "      <td>1.0</td>\n",
              "      <td>NaN</td>\n",
              "      <td>NaN</td>\n",
              "      <td>NaN</td>\n",
              "      <td>1.0</td>\n",
              "      <td>NaN</td>\n",
              "      <td>NaN</td>\n",
              "      <td>NaN</td>\n",
              "      <td>NaN</td>\n",
              "      <td>NaN</td>\n",
              "      <td>NaN</td>\n",
              "      <td>NaN</td>\n",
              "      <td>NaN</td>\n",
              "      <td>NaN</td>\n",
              "      <td>NaN</td>\n",
              "      <td>NaN</td>\n",
              "      <td>NaN</td>\n",
              "      <td>NaN</td>\n",
              "      <td>NaN</td>\n",
              "      <td>NaN</td>\n",
              "      <td>NaN</td>\n",
              "      <td>NaN</td>\n",
              "      <td>NaN</td>\n",
              "      <td>NaN</td>\n",
              "      <td>NaN</td>\n",
              "      <td>240 zł</td>\n",
              "      <td>2019-12-23</td>\n",
              "      <td>pełna własność</td>\n",
              "      <td>3.0</td>\n",
              "      <td>2</td>\n",
              "      <td>cegła</td>\n",
              "      <td>miejskie</td>\n",
              "      <td>plastikowe</td>\n",
              "      <td>parter</td>\n",
              "      <td>39,10 m²</td>\n",
              "      <td>kamienica</td>\n",
              "      <td>1948.0</td>\n",
              "      <td>wtórny</td>\n",
              "      <td>do zamieszkania</td>\n",
              "    </tr>\n",
              "    <tr>\n",
              "      <th>2</th>\n",
              "      <td>44qDX</td>\n",
              "      <td>Tarchomin-Nowodwory ul.Odkryta/Hanki Ordonówny...</td>\n",
              "      <td>NaN</td>\n",
              "      <td>NaN</td>\n",
              "      <td>NaN</td>\n",
              "      <td>NaN</td>\n",
              "      <td>1.0</td>\n",
              "      <td>NaN</td>\n",
              "      <td>NaN</td>\n",
              "      <td>NaN</td>\n",
              "      <td>NaN</td>\n",
              "      <td>NaN</td>\n",
              "      <td>NaN</td>\n",
              "      <td>NaN</td>\n",
              "      <td>1.0</td>\n",
              "      <td>NaN</td>\n",
              "      <td>1.0</td>\n",
              "      <td>NaN</td>\n",
              "      <td>NaN</td>\n",
              "      <td>NaN</td>\n",
              "      <td>NaN</td>\n",
              "      <td>1.0</td>\n",
              "      <td>NaN</td>\n",
              "      <td>NaN</td>\n",
              "      <td>NaN</td>\n",
              "      <td>NaN</td>\n",
              "      <td>1.0</td>\n",
              "      <td>NaN</td>\n",
              "      <td>718 zł</td>\n",
              "      <td>NaN</td>\n",
              "      <td>NaN</td>\n",
              "      <td>5.0</td>\n",
              "      <td>3</td>\n",
              "      <td>cegła</td>\n",
              "      <td>miejskie</td>\n",
              "      <td>plastikowe</td>\n",
              "      <td>parter</td>\n",
              "      <td>77 m²</td>\n",
              "      <td>apartamentowiec</td>\n",
              "      <td>2012.0</td>\n",
              "      <td>wtórny</td>\n",
              "      <td>NaN</td>\n",
              "    </tr>\n",
              "    <tr>\n",
              "      <th>3</th>\n",
              "      <td>44noR</td>\n",
              "      <td>Zapraszam na prezentację lokalu w najbliższą n...</td>\n",
              "      <td>NaN</td>\n",
              "      <td>NaN</td>\n",
              "      <td>NaN</td>\n",
              "      <td>NaN</td>\n",
              "      <td>1.0</td>\n",
              "      <td>NaN</td>\n",
              "      <td>NaN</td>\n",
              "      <td>NaN</td>\n",
              "      <td>NaN</td>\n",
              "      <td>NaN</td>\n",
              "      <td>NaN</td>\n",
              "      <td>NaN</td>\n",
              "      <td>NaN</td>\n",
              "      <td>NaN</td>\n",
              "      <td>1.0</td>\n",
              "      <td>1.0</td>\n",
              "      <td>NaN</td>\n",
              "      <td>NaN</td>\n",
              "      <td>NaN</td>\n",
              "      <td>NaN</td>\n",
              "      <td>NaN</td>\n",
              "      <td>NaN</td>\n",
              "      <td>NaN</td>\n",
              "      <td>NaN</td>\n",
              "      <td>1.0</td>\n",
              "      <td>NaN</td>\n",
              "      <td>480 zł</td>\n",
              "      <td>NaN</td>\n",
              "      <td>NaN</td>\n",
              "      <td>8.0</td>\n",
              "      <td>3</td>\n",
              "      <td>cegła</td>\n",
              "      <td>miejskie</td>\n",
              "      <td>NaN</td>\n",
              "      <td>3</td>\n",
              "      <td>76,80 m²</td>\n",
              "      <td>apartamentowiec</td>\n",
              "      <td>2009.0</td>\n",
              "      <td>wtórny</td>\n",
              "      <td>do remontu</td>\n",
              "    </tr>\n",
              "    <tr>\n",
              "      <th>4</th>\n",
              "      <td>3RekE</td>\n",
              "      <td>Klimat Saskiej Kępy\\nSaska Kępa to jedna z naj...</td>\n",
              "      <td>1.0</td>\n",
              "      <td>1.0</td>\n",
              "      <td>NaN</td>\n",
              "      <td>NaN</td>\n",
              "      <td>1.0</td>\n",
              "      <td>1.0</td>\n",
              "      <td>NaN</td>\n",
              "      <td>NaN</td>\n",
              "      <td>NaN</td>\n",
              "      <td>NaN</td>\n",
              "      <td>1.0</td>\n",
              "      <td>NaN</td>\n",
              "      <td>NaN</td>\n",
              "      <td>NaN</td>\n",
              "      <td>NaN</td>\n",
              "      <td>NaN</td>\n",
              "      <td>NaN</td>\n",
              "      <td>NaN</td>\n",
              "      <td>1.0</td>\n",
              "      <td>NaN</td>\n",
              "      <td>1.0</td>\n",
              "      <td>1.0</td>\n",
              "      <td>NaN</td>\n",
              "      <td>1.0</td>\n",
              "      <td>1.0</td>\n",
              "      <td>NaN</td>\n",
              "      <td>NaN</td>\n",
              "      <td>NaN</td>\n",
              "      <td>pełna własność</td>\n",
              "      <td>2.0</td>\n",
              "      <td>3</td>\n",
              "      <td>NaN</td>\n",
              "      <td>miejskie</td>\n",
              "      <td>NaN</td>\n",
              "      <td>1</td>\n",
              "      <td>106 m²</td>\n",
              "      <td>apartamentowiec</td>\n",
              "      <td>2018.0</td>\n",
              "      <td>pierwotny</td>\n",
              "      <td>do wykończenia</td>\n",
              "    </tr>\n",
              "  </tbody>\n",
              "</table>\n",
              "</div>"
            ],
            "text/plain": [
              "      ID  ... ov_Stan wykończenia\n",
              "0  43E0a  ...                 NaN\n",
              "1  440aD  ...     do zamieszkania\n",
              "2  44qDX  ...                 NaN\n",
              "3  44noR  ...          do remontu\n",
              "4  3RekE  ...      do wykończenia\n",
              "\n",
              "[5 rows x 42 columns]"
            ]
          },
          "metadata": {
            "tags": []
          },
          "execution_count": 15
        }
      ]
    },
    {
      "cell_type": "code",
      "metadata": {
        "id": "XQjsi1MSCpU6",
        "colab_type": "code",
        "colab": {}
      },
      "source": [
        "for col in df_feature.columns[2:]:\n",
        "    if pd.api.types.is_numeric_dtype(df_feature[col]):\n",
        "        df_feature[col].replace(pd.np.NaN, 0, inplace=True)\n",
        "        df_feature[col] = df_feature[col].astype('int')\n",
        "    \n",
        "    if pd.api.types.is_string_dtype(df_feature[col]):\n",
        "        df_feature[col].replace(pd.np.NaN, \"\", inplace=True)\n"
      ],
      "execution_count": 0,
      "outputs": []
    },
    {
      "cell_type": "code",
      "metadata": {
        "id": "j3LjCZ2uCpVA",
        "colab_type": "code",
        "colab": {
          "base_uri": "https://localhost:8080/",
          "height": 260
        },
        "outputId": "4185d654-bb71-4a5f-ef33-9bee46b4a671"
      },
      "source": [
        "df_feature.columns"
      ],
      "execution_count": 17,
      "outputs": [
        {
          "output_type": "execute_result",
          "data": {
            "text/plain": [
              "Index(['ID', 'descr', 'feat_balkon', 'feat_domofon / wideofon',\n",
              "       'feat_drzwi / okna antywłamaniowe', 'feat_dwupoziomowe',\n",
              "       'feat_garaż/miejsce parkingowe', 'feat_internet', 'feat_klimatyzacja',\n",
              "       'feat_kuchenka', 'feat_lodówka', 'feat_meble',\n",
              "       'feat_monitoring / ochrona', 'feat_oddzielna kuchnia', 'feat_ogródek',\n",
              "       'feat_piekarnik', 'feat_piwnica', 'feat_pom. użytkowe', 'feat_pralka',\n",
              "       'feat_rolety antywłamaniowe', 'feat_system alarmowy', 'feat_taras',\n",
              "       'feat_telefon', 'feat_telewizja kablowa', 'feat_telewizor',\n",
              "       'feat_teren zamknięty', 'feat_winda', 'feat_zmywarka', 'ov_Czynsz',\n",
              "       'ov_Dostępne od', 'ov_Forma własności', 'ov_Liczba pięter',\n",
              "       'ov_Liczba pokoi', 'ov_Materiał budynku', 'ov_Ogrzewanie', 'ov_Okna',\n",
              "       'ov_Piętro', 'ov_Powierzchnia', 'ov_Rodzaj zabudowy', 'ov_Rok budowy',\n",
              "       'ov_Rynek', 'ov_Stan wykończenia'],\n",
              "      dtype='object')"
            ]
          },
          "metadata": {
            "tags": []
          },
          "execution_count": 17
        }
      ]
    },
    {
      "cell_type": "markdown",
      "metadata": {
        "id": "hxURn9LSCpVG",
        "colab_type": "text"
      },
      "source": [
        "## Występowanie windy"
      ]
    },
    {
      "cell_type": "code",
      "metadata": {
        "id": "XKkrIqijCpVG",
        "colab_type": "code",
        "colab": {
          "base_uri": "https://localhost:8080/",
          "height": 277
        },
        "outputId": "1f3e51a5-ef35-4664-a165-399e5e3e7711"
      },
      "source": [
        "df_feature.groupby(\"feat_winda\").size().plot(kind='bar',color='red')\n",
        "plt.show()"
      ],
      "execution_count": 18,
      "outputs": [
        {
          "output_type": "display_data",
          "data": {
            "image/png": "[encoded data removed]",
            "text/plain": [
              "<Figure size 432x288 with 1 Axes>"
            ]
          },
          "metadata": {
            "tags": []
          }
        }
      ]
    },
    {
      "cell_type": "markdown",
      "metadata": {
        "id": "3KyuOEcICpVN",
        "colab_type": "text"
      },
      "source": [
        "## Występowanie oddzielnej kuchni"
      ]
    },
    {
      "cell_type": "code",
      "metadata": {
        "id": "0TKACyUSCpVP",
        "colab_type": "code",
        "colab": {
          "base_uri": "https://localhost:8080/",
          "height": 277
        },
        "outputId": "7b88f6f7-b73b-44ea-a0d5-5b00d69a7f5b"
      },
      "source": [
        "df_feature.groupby(\"feat_oddzielna kuchnia\").size().plot(kind='bar',color='red')\n",
        "plt.show()"
      ],
      "execution_count": 19,
      "outputs": [
        {
          "output_type": "display_data",
          "data": {
            "image/png": "[encoded data removed]",
            "text/plain": [
              "<Figure size 432x288 with 1 Axes>"
            ]
          },
          "metadata": {
            "tags": []
          }
        }
      ]
    },
    {
      "cell_type": "markdown",
      "metadata": {
        "id": "LRO0m10tCpVU",
        "colab_type": "text"
      },
      "source": [
        "## Występowanie klimatyzacji"
      ]
    },
    {
      "cell_type": "code",
      "metadata": {
        "id": "ZoduDdRTCpVV",
        "colab_type": "code",
        "colab": {
          "base_uri": "https://localhost:8080/",
          "height": 277
        },
        "outputId": "1d1d1988-7533-4b45-dadd-4dfc3d3b1659"
      },
      "source": [
        "df_feature.groupby(\"feat_klimatyzacja\").size().plot(kind='bar',color='red')\n",
        "plt.show()"
      ],
      "execution_count": 20,
      "outputs": [
        {
          "output_type": "display_data",
          "data": {
            "image/png": "[encoded data removed]",
            "text/plain": [
              "<Figure size 432x288 with 1 Axes>"
            ]
          },
          "metadata": {
            "tags": []
          }
        }
      ]
    },
    {
      "cell_type": "markdown",
      "metadata": {
        "id": "v-JwINbUCpVk",
        "colab_type": "text"
      },
      "source": [
        "## Rok budowy budynku"
      ]
    },
    {
      "cell_type": "code",
      "metadata": {
        "id": "BTzTYhoqCpVm",
        "colab_type": "code",
        "colab": {
          "base_uri": "https://localhost:8080/",
          "height": 265
        },
        "outputId": "caf7cd8d-2e59-4fd5-a70a-85042bf53691"
      },
      "source": [
        "df_feature[df_feature[\"ov_Rok budowy\"]>=1900][\"ov_Rok budowy\"].sort_values().hist(color='red')\n",
        "plt.show()"
      ],
      "execution_count": 21,
      "outputs": [
        {
          "output_type": "display_data",
          "data": {
            "image/png": "[encoded data removed]",
            "text/plain": [
              "<Figure size 432x288 with 1 Axes>"
            ]
          },
          "metadata": {
            "tags": []
          }
        }
      ]
    },
    {
      "cell_type": "code",
      "metadata": {
        "id": "6yjQVSOwCpVr",
        "colab_type": "code",
        "colab": {}
      },
      "source": [
        "df_feature.replace(\"\",\"brak danych\", inplace=True)\n",
        "\n",
        "def czynsz(s):\n",
        "    try:\n",
        "        return float(s.replace(\" \",\"\").replace(\"zł\",\"\").replace(\",\",\".\"))\n",
        "    except:\n",
        "        return pd.np.NaN\n",
        "\n",
        "df_feature[\"ov_Czynsz\"] = df_feature[\"ov_Czynsz\"].apply(czynsz)"
      ],
      "execution_count": 0,
      "outputs": []
    },
    {
      "cell_type": "markdown",
      "metadata": {
        "id": "68moP-HqCpVw",
        "colab_type": "text"
      },
      "source": [
        "## Rozkład kwotu czynszu"
      ]
    },
    {
      "cell_type": "code",
      "metadata": {
        "id": "CJIk8dKTCpVy",
        "colab_type": "code",
        "colab": {
          "base_uri": "https://localhost:8080/",
          "height": 483
        },
        "outputId": "40a90fe2-fe2f-49aa-978b-5a25ed7c75e3"
      },
      "source": [
        "max_range = df_feature[\"ov_Czynsz\"].quantile(0.99)\n",
        "df_feature[(df_feature.ov_Czynsz<max_range) & (df_feature.ov_Czynsz>0)][\"ov_Czynsz\"].\\\n",
        "                                               hist(bins=30, color='red', figsize=(8,8))\n",
        "plt.show()"
      ],
      "execution_count": 23,
      "outputs": [
        {
          "output_type": "display_data",
          "data": {
            "image/png": "[encoded data removed]",
            "text/plain": [
              "<Figure size 576x576 with 1 Axes>"
            ]
          },
          "metadata": {
            "tags": []
          }
        }
      ]
    },
    {
      "cell_type": "markdown",
      "metadata": {
        "id": "WawUWVBXCpV2",
        "colab_type": "text"
      },
      "source": [
        "## Liczba ogłoszeń dla danej formy własności"
      ]
    },
    {
      "cell_type": "code",
      "metadata": {
        "id": "zNvVf6WrCpV3",
        "colab_type": "code",
        "colab": {
          "base_uri": "https://localhost:8080/",
          "height": 280
        },
        "outputId": "6163f5a9-907f-4cd4-95ef-01319cddc999"
      },
      "source": [
        "df_feature.groupby(\"ov_Forma własności\")[\"ID\"].size().sort_values().plot(kind='barh', grid=True, color='red')\n",
        "plt.xlabel('Liczba ogłoszeń')\n",
        "plt.ylabel('Forma własności')\n",
        "plt.show()"
      ],
      "execution_count": 24,
      "outputs": [
        {
          "output_type": "display_data",
          "data": {
            "image/png": "[encoded data removed]",
            "text/plain": [
              "<Figure size 432x288 with 1 Axes>"
            ]
          },
          "metadata": {
            "tags": []
          }
        }
      ]
    },
    {
      "cell_type": "markdown",
      "metadata": {
        "id": "11Jz_GY-CpV9",
        "colab_type": "text"
      },
      "source": [
        "## Liczba ogłoszeń dla danej liczby pokojów"
      ]
    },
    {
      "cell_type": "code",
      "metadata": {
        "id": "6YI1MR-JCpV_",
        "colab_type": "code",
        "colab": {
          "base_uri": "https://localhost:8080/",
          "height": 280
        },
        "outputId": "ee3a9dc5-27f3-465b-ae05-aa264dddb21e"
      },
      "source": [
        "df_feature[\"ov_Liczba pokoi\"].value_counts().sort_values().plot(kind='barh', grid=True, color='red')\n",
        "plt.xlabel('Liczba ogłoszeń')\n",
        "plt.ylabel('Liczba pokojów')\n",
        "plt.show()"
      ],
      "execution_count": 25,
      "outputs": [
        {
          "output_type": "display_data",
          "data": {
            "image/png": "[encoded data removed]",
            "text/plain": [
              "<Figure size 432x288 with 1 Axes>"
            ]
          },
          "metadata": {
            "tags": []
          }
        }
      ]
    },
    {
      "cell_type": "code",
      "metadata": {
        "id": "ertUzixQCpWD",
        "colab_type": "code",
        "colab": {
          "base_uri": "https://localhost:8080/",
          "height": 206
        },
        "outputId": "325f4c82-76b5-4c32-aa9c-fc7b2181f669"
      },
      "source": [
        "df = pd.read_csv(\"otomoto-details-dates.csv\", sep=';', \n",
        "                 na_values=['?'], usecols=['ID','add_date','update_date'])\n",
        "df.head()                 "
      ],
      "execution_count": 26,
      "outputs": [
        {
          "output_type": "execute_result",
          "data": {
            "text/html": [
              "<div>\n",
              "<style scoped>\n",
              "    .dataframe tbody tr th:only-of-type {\n",
              "        vertical-align: middle;\n",
              "    }\n",
              "\n",
              "    .dataframe tbody tr th {\n",
              "        vertical-align: top;\n",
              "    }\n",
              "\n",
              "    .dataframe thead th {\n",
              "        text-align: right;\n",
              "    }\n",
              "</style>\n",
              "<table border=\"1\" class=\"dataframe\">\n",
              "  <thead>\n",
              "    <tr style=\"text-align: right;\">\n",
              "      <th></th>\n",
              "      <th>ID</th>\n",
              "      <th>add_date</th>\n",
              "      <th>update_date</th>\n",
              "    </tr>\n",
              "  </thead>\n",
              "  <tbody>\n",
              "    <tr>\n",
              "      <th>0</th>\n",
              "      <td>43E0a</td>\n",
              "      <td>2019-12-01</td>\n",
              "      <td>2020-01-26</td>\n",
              "    </tr>\n",
              "    <tr>\n",
              "      <th>1</th>\n",
              "      <td>440aD</td>\n",
              "      <td>2020-01-01</td>\n",
              "      <td>2020-01-26</td>\n",
              "    </tr>\n",
              "    <tr>\n",
              "      <th>2</th>\n",
              "      <td>44qDX</td>\n",
              "      <td>2020-01-31</td>\n",
              "      <td>2020-01-31</td>\n",
              "    </tr>\n",
              "    <tr>\n",
              "      <th>3</th>\n",
              "      <td>44noR</td>\n",
              "      <td>2020-01-27</td>\n",
              "      <td>2020-02-01</td>\n",
              "    </tr>\n",
              "    <tr>\n",
              "      <th>4</th>\n",
              "      <td>3RekE</td>\n",
              "      <td>2019-02-01</td>\n",
              "      <td>2020-01-15</td>\n",
              "    </tr>\n",
              "  </tbody>\n",
              "</table>\n",
              "</div>"
            ],
            "text/plain": [
              "      ID    add_date update_date\n",
              "0  43E0a  2019-12-01  2020-01-26\n",
              "1  440aD  2020-01-01  2020-01-26\n",
              "2  44qDX  2020-01-31  2020-01-31\n",
              "3  44noR  2020-01-27  2020-02-01\n",
              "4  3RekE  2019-02-01  2020-01-15"
            ]
          },
          "metadata": {
            "tags": []
          },
          "execution_count": 26
        }
      ]
    },
    {
      "cell_type": "markdown",
      "metadata": {
        "id": "0zKEP5taCpWH",
        "colab_type": "text"
      },
      "source": [
        "## Rozkład dat zamieszczenia ogłoszenia (RRRR-MM)"
      ]
    },
    {
      "cell_type": "code",
      "metadata": {
        "id": "KBIL6zbJCpWJ",
        "colab_type": "code",
        "colab": {
          "base_uri": "https://localhost:8080/",
          "height": 460
        },
        "outputId": "bc5827f7-7300-4b13-febc-8ee586d7bcd3"
      },
      "source": [
        "df[\"add_date\"].sort_values().str[:7].hist(xrot=90, figsize=(7,7), color='red')\n",
        "plt.show()"
      ],
      "execution_count": 27,
      "outputs": [
        {
          "output_type": "display_data",
          "data": {
            "image/png": "[encoded data removed]",
            "text/plain": [
              "<Figure size 504x504 with 1 Axes>"
            ]
          },
          "metadata": {
            "tags": []
          }
        }
      ]
    },
    {
      "cell_type": "code",
      "metadata": {
        "id": "vFOMHQ0hCpWN",
        "colab_type": "code",
        "colab": {}
      },
      "source": [
        "los =df.ID.sample(300).values"
      ],
      "execution_count": 0,
      "outputs": []
    },
    {
      "cell_type": "code",
      "metadata": {
        "id": "K6XziwncRWeY",
        "colab_type": "code",
        "colab": {}
      },
      "source": [
        "t1 = pd.read_csv(\"otomoto-head.csv\", sep=\";\")\n",
        "t1[ t1.ID.isin(los) ].to_csv(\"otomoto-head-sample.csv\", sep=\";\")"
      ],
      "execution_count": 0,
      "outputs": []
    },
    {
      "cell_type": "code",
      "metadata": {
        "id": "VE2v6ISDRrtI",
        "colab_type": "code",
        "colab": {}
      },
      "source": [
        "t1 = pd.read_csv(\"otomoto-details.csv\", sep=\";\")\n",
        "t1[ t1.ID.isin(los) ].to_csv(\"otomoto-details-sample.csv\", sep=\";\")"
      ],
      "execution_count": 0,
      "outputs": []
    },
    {
      "cell_type": "code",
      "metadata": {
        "id": "GfL6w9njSSSH",
        "colab_type": "code",
        "colab": {}
      },
      "source": [
        "t1 = pd.read_csv(\"otomoto-details-dates.csv\", sep=\";\")\n",
        "t1[ t1.ID.isin(los) ].to_csv(\"otomoto-details-dates-sample.csv\", sep=\";\")"
      ],
      "execution_count": 0,
      "outputs": []
    },
    {
      "cell_type": "code",
      "metadata": {
        "id": "bjmN5IvHSV5V",
        "colab_type": "code",
        "colab": {}
      },
      "source": [
        ""
      ],
      "execution_count": 0,
      "outputs": []
    }
  ]
}