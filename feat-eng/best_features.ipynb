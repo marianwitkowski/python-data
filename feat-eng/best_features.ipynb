{
  "nbformat": 4,
  "nbformat_minor": 5,
  "metadata": {
    "kernelspec": {
      "display_name": "Python 3",
      "language": "python",
      "name": "python3"
    },
    "language_info": {
      "codemirror_mode": {
        "name": "ipython",
        "version": 3
      },
      "file_extension": ".py",
      "mimetype": "text/x-python",
      "name": "python",
      "nbconvert_exporter": "python",
      "pygments_lexer": "ipython3",
      "version": "3.8.8"
    },
    "varInspector": {
      "cols": {
        "lenName": "32",
        "lenType": "32",
        "lenVar": 40
      },
      "kernels_config": {
        "python": {
          "delete_cmd_postfix": "",
          "delete_cmd_prefix": "del ",
          "library": "var_list.py",
          "varRefreshCmd": "print(var_dic_list())"
        },
        "r": {
          "delete_cmd_postfix": ") ",
          "delete_cmd_prefix": "rm(",
          "library": "var_list.r",
          "varRefreshCmd": "cat(var_dic_list()) "
        }
      },
      "types_to_exclude": [
        "module",
        "function",
        "builtin_function_or_method",
        "instance",
        "_Feature"
      ],
      "window_display": false
    },
    "colab": {
      "name": "best-features.ipynb",
      "provenance": [],
      "collapsed_sections": []
    }
  },
  "cells": [
    {
      "cell_type": "markdown",
      "metadata": {
        "id": "YQlcVaGbrFTG"
      },
      "source": [
        "# Wybór najlepszych cech zmiennej niezależnej\n",
        "\n"
      ],
      "id": "YQlcVaGbrFTG"
    },
    {
      "cell_type": "code",
      "metadata": {
        "id": "d0a2b352"
      },
      "source": [
        "import numpy as np\n",
        "import pandas as pd\n",
        "import matplotlib.pyplot as plt\n",
        "import seaborn as sns\n",
        "\n",
        "from sklearn.tree import DecisionTreeRegressor\n",
        "from sklearn.model_selection import train_test_split"
      ],
      "id": "d0a2b352",
      "execution_count": 153,
      "outputs": []
    },
    {
      "cell_type": "code",
      "metadata": {
        "id": "a7a2ae68",
        "colab": {
          "base_uri": "https://localhost:8080/",
          "height": 206
        },
        "outputId": "5776af1b-78b0-4512-85b5-e4386643769b"
      },
      "source": [
        "score_summary = {}\n",
        "df = pd.read_csv(\"https://raw.githubusercontent.com/marianwitkowski/python-data/master/feat-eng/otodom.csv\")\n",
        "df.head()"
      ],
      "id": "a7a2ae68",
      "execution_count": 154,
      "outputs": [
        {
          "output_type": "execute_result",
          "data": {
            "text/html": [
              "<div>\n",
              "<style scoped>\n",
              "    .dataframe tbody tr th:only-of-type {\n",
              "        vertical-align: middle;\n",
              "    }\n",
              "\n",
              "    .dataframe tbody tr th {\n",
              "        vertical-align: top;\n",
              "    }\n",
              "\n",
              "    .dataframe thead th {\n",
              "        text-align: right;\n",
              "    }\n",
              "</style>\n",
              "<table border=\"1\" class=\"dataframe\">\n",
              "  <thead>\n",
              "    <tr style=\"text-align: right;\">\n",
              "      <th></th>\n",
              "      <th>id</th>\n",
              "      <th>cena</th>\n",
              "      <th>liczba_pieter</th>\n",
              "      <th>liczba_pokoi</th>\n",
              "      <th>pietro</th>\n",
              "      <th>powierzchnia</th>\n",
              "      <th>rok_budowy</th>\n",
              "    </tr>\n",
              "  </thead>\n",
              "  <tbody>\n",
              "    <tr>\n",
              "      <th>0</th>\n",
              "      <td>46lCR</td>\n",
              "      <td>979000</td>\n",
              "      <td>5</td>\n",
              "      <td>4</td>\n",
              "      <td>5</td>\n",
              "      <td>83.00</td>\n",
              "      <td>2009</td>\n",
              "    </tr>\n",
              "    <tr>\n",
              "      <th>1</th>\n",
              "      <td>44Utr</td>\n",
              "      <td>1400000</td>\n",
              "      <td>7</td>\n",
              "      <td>3</td>\n",
              "      <td>2</td>\n",
              "      <td>82.94</td>\n",
              "      <td>2011</td>\n",
              "    </tr>\n",
              "    <tr>\n",
              "      <th>2</th>\n",
              "      <td>3Bdli</td>\n",
              "      <td>640659</td>\n",
              "      <td>4</td>\n",
              "      <td>3</td>\n",
              "      <td>2</td>\n",
              "      <td>64.13</td>\n",
              "      <td>2019</td>\n",
              "    </tr>\n",
              "    <tr>\n",
              "      <th>3</th>\n",
              "      <td>46q1p</td>\n",
              "      <td>410000</td>\n",
              "      <td>12</td>\n",
              "      <td>2</td>\n",
              "      <td>4</td>\n",
              "      <td>36.30</td>\n",
              "      <td>1975</td>\n",
              "    </tr>\n",
              "    <tr>\n",
              "      <th>4</th>\n",
              "      <td>468dI</td>\n",
              "      <td>415900</td>\n",
              "      <td>10</td>\n",
              "      <td>2</td>\n",
              "      <td>6</td>\n",
              "      <td>31.06</td>\n",
              "      <td>1974</td>\n",
              "    </tr>\n",
              "  </tbody>\n",
              "</table>\n",
              "</div>"
            ],
            "text/plain": [
              "      id     cena  liczba_pieter  ...  pietro  powierzchnia  rok_budowy\n",
              "0  46lCR   979000              5  ...       5         83.00        2009\n",
              "1  44Utr  1400000              7  ...       2         82.94        2011\n",
              "2  3Bdli   640659              4  ...       2         64.13        2019\n",
              "3  46q1p   410000             12  ...       4         36.30        1975\n",
              "4  468dI   415900             10  ...       6         31.06        1974\n",
              "\n",
              "[5 rows x 7 columns]"
            ]
          },
          "metadata": {
            "tags": []
          },
          "execution_count": 154
        }
      ]
    },
    {
      "cell_type": "markdown",
      "metadata": {
        "id": "4DmCN96VrNcD"
      },
      "source": [
        "## Liczba wybieranych cech"
      ],
      "id": "4DmCN96VrNcD"
    },
    {
      "cell_type": "code",
      "metadata": {
        "id": "AmQvgs6wG94Z"
      },
      "source": [
        "N_FEAT = 3 # liczba cech do wyboru"
      ],
      "id": "AmQvgs6wG94Z",
      "execution_count": 155,
      "outputs": []
    },
    {
      "cell_type": "code",
      "metadata": {
        "id": "47e1ffe6"
      },
      "source": [
        "X = df.iloc[:, 2:]\n",
        "y = df.cena\n",
        "y.name = 'result'"
      ],
      "id": "47e1ffe6",
      "execution_count": 156,
      "outputs": []
    },
    {
      "cell_type": "markdown",
      "metadata": {
        "id": "VD92ATNyrSd3"
      },
      "source": [
        "## Estymator dla danych oryginalnych"
      ],
      "id": "VD92ATNyrSd3"
    },
    {
      "cell_type": "code",
      "metadata": {
        "colab": {
          "base_uri": "https://localhost:8080/"
        },
        "id": "73a8f62f",
        "outputId": "f8bec0ef-8f52-433c-cd6a-f3d54c175481"
      },
      "source": [
        "\n",
        "X_train, X_test, y_train, y_test = train_test_split(X, y, test_size=.2, random_state=0)\n",
        "model = DecisionTreeRegressor(random_state=42)\n",
        "model.fit(X_train, y_train)\n",
        "score = model.score(X_test, y_test)\n",
        "print(score)\n",
        "score_summary[\"ORYG\"] = score\n"
      ],
      "id": "73a8f62f",
      "execution_count": 157,
      "outputs": [
        {
          "output_type": "stream",
          "text": [
            "0.6935208783964221\n"
          ],
          "name": "stdout"
        }
      ]
    },
    {
      "cell_type": "markdown",
      "metadata": {
        "id": "ea0fizasrX-o"
      },
      "source": [
        "## Korelacja pomiędzy cechami a zmienną zależną"
      ],
      "id": "ea0fizasrX-o"
    },
    {
      "cell_type": "code",
      "metadata": {
        "colab": {
          "base_uri": "https://localhost:8080/",
          "height": 669
        },
        "id": "8426431a",
        "outputId": "f5ef4baf-f5b0-4d72-d2b9-d2f9c57f3547"
      },
      "source": [
        "plt.figure(figsize=(11,11))\n",
        "sns.heatmap( pd.concat([X,y], axis=1).corr(), cmap='jet', annot=True  )"
      ],
      "id": "8426431a",
      "execution_count": 158,
      "outputs": [
        {
          "output_type": "execute_result",
          "data": {
            "text/plain": [
              "<matplotlib.axes._subplots.AxesSubplot at 0x7f4cdf2e4f10>"
            ]
          },
          "metadata": {
            "tags": []
          },
          "execution_count": 158
        },
        {
          "output_type": "display_data",
          "data": {
            "image/png": "[encoded data removed]",
            "text/plain": [
              "<Figure size 792x792 with 2 Axes>"
            ]
          },
          "metadata": {
            "tags": [],
            "needs_background": "light"
          }
        }
      ]
    },
    {
      "cell_type": "markdown",
      "metadata": {
        "id": "pOrnKJxbrfNM"
      },
      "source": [
        "## Wybór cech na podstawie największej (bezwzględnie) korelacji"
      ],
      "id": "pOrnKJxbrfNM"
    },
    {
      "cell_type": "code",
      "metadata": {
        "colab": {
          "base_uri": "https://localhost:8080/"
        },
        "id": "d698dfab",
        "outputId": "7d927f37-0319-4460-a06d-3c68feaf3cc1"
      },
      "source": [
        "\n",
        "# pobranie kolumn z najw. (bezwzględnie) wartością korelacji\n",
        "series = pd.concat([X,y], axis=1).corr().iloc[-1].abs().sort_values(ascending=False).iloc[1:N_FEAT+1]\n",
        "\n",
        "best_cols = list(series.index)\n",
        "print(best_cols)\n",
        "\n",
        "X_train, X_test, y_train, y_test = train_test_split(X[best_cols], y, test_size=.2, random_state=0)\n",
        "model = DecisionTreeRegressor(random_state=42)\n",
        "model.fit(X_train, y_train)\n",
        "\n",
        "score = model.score(X_test, y_test)\n",
        "print(score)\n",
        "score_summary[\"Correlation\"] = score\n"
      ],
      "id": "d698dfab",
      "execution_count": 159,
      "outputs": [
        {
          "output_type": "stream",
          "text": [
            "['powierzchnia', 'liczba_pokoi', 'liczba_pieter']\n",
            "0.6730135958443856\n"
          ],
          "name": "stdout"
        }
      ]
    },
    {
      "cell_type": "markdown",
      "metadata": {
        "id": "_B1g2CKproLB"
      },
      "source": [
        "## Użycie klasy SelectKBest"
      ],
      "id": "_B1g2CKproLB"
    },
    {
      "cell_type": "code",
      "metadata": {
        "colab": {
          "base_uri": "https://localhost:8080/"
        },
        "id": "6429d5c6",
        "outputId": "76683131-6bef-4c7f-b5fc-9346cea24651"
      },
      "source": [
        "# wybieranie cech z wykorzystaniem klasy SelectKBest\n",
        "from sklearn.feature_selection import SelectKBest, f_classif\n",
        "\n",
        "# ekstracja w oparciu o test ANOVA\n",
        "fe = SelectKBest(f_classif, k=N_FEAT)\n",
        "fe.fit(X, y)\n",
        "\n",
        "best_cols = X.loc[ : , fe.get_support() ].columns.tolist()\n",
        "print(best_cols)\n",
        "\n",
        "X_train, X_test, y_train, y_test = train_test_split(X[best_cols], y, test_size=.2, random_state=0)\n",
        "model = DecisionTreeRegressor(random_state=42)\n",
        "model.fit(X_train, y_train)\n",
        "\n",
        "score = model.score(X_test, y_test)\n",
        "print(score)\n",
        "score_summary[\"SelectKBest\"] = score\n"
      ],
      "id": "6429d5c6",
      "execution_count": 160,
      "outputs": [
        {
          "output_type": "stream",
          "text": [
            "['liczba_pieter', 'liczba_pokoi', 'powierzchnia']\n",
            "0.6730135958443856\n"
          ],
          "name": "stdout"
        }
      ]
    },
    {
      "cell_type": "markdown",
      "metadata": {
        "id": "gr-hqBFSryXC"
      },
      "source": [
        "## Użycie techniki Recursive Feature Extraction"
      ],
      "id": "gr-hqBFSryXC"
    },
    {
      "cell_type": "code",
      "metadata": {
        "colab": {
          "base_uri": "https://localhost:8080/"
        },
        "id": "f115e1ac",
        "outputId": "a780fe1d-dec6-4636-b582-74f5f1219bbf"
      },
      "source": [
        "from sklearn.tree import DecisionTreeClassifier\n",
        "from sklearn.feature_selection import RFE\n",
        "\n",
        "rfe = RFE(estimator=DecisionTreeClassifier() , n_features_to_select=N_FEAT)\n",
        "rfe.fit(X, y)\n",
        "\n",
        "best_cols = X.loc[ : , rfe.get_support() ].columns.tolist()\n",
        "print(best_cols)\n",
        "\n",
        "X_train, X_test, y_train, y_test = train_test_split(X[best_cols], y, test_size=.2, random_state=0)\n",
        "model = DecisionTreeRegressor(random_state=42)\n",
        "model.fit(X_train, y_train)\n",
        "\n",
        "score = model.score(X_test, y_test)\n",
        "print(score)\n",
        "score_summary[\"RFE\"] = score\n"
      ],
      "id": "f115e1ac",
      "execution_count": 161,
      "outputs": [
        {
          "output_type": "stream",
          "text": [
            "['pietro', 'powierzchnia', 'rok_budowy']\n",
            "0.722047972814522\n"
          ],
          "name": "stdout"
        }
      ]
    },
    {
      "cell_type": "markdown",
      "metadata": {
        "id": "QhAm7d1Hr4yS"
      },
      "source": [
        "## Użycie klasy SelectFromModel"
      ],
      "id": "QhAm7d1Hr4yS"
    },
    {
      "cell_type": "code",
      "metadata": {
        "colab": {
          "base_uri": "https://localhost:8080/"
        },
        "id": "395d40ac",
        "outputId": "eae42045-dee3-43dc-d788-93b9f4f4eb8f"
      },
      "source": [
        "# Technika \"opakowywania\" - wybieranie najlepszych cech na podstawie działania estymatora ML\n",
        "from sklearn.feature_selection import SelectFromModel\n",
        "from sklearn.ensemble import RandomForestClassifier\n",
        "\n",
        "ens = SelectFromModel(estimator=RandomForestClassifier() , max_features=N_FEAT )\n",
        "ens.fit(X, y)\n",
        "\n",
        "best_cols = X.loc[ : , ens.get_support() ].columns.tolist()\n",
        "print(best_cols)\n",
        "\n",
        "X_train, X_test, y_train, y_test = train_test_split(X[best_cols], y, test_size=.2, random_state=0)\n",
        "model = DecisionTreeRegressor(random_state=42)\n",
        "model.fit(X_train, y_train)\n",
        "\n",
        "score = model.score(X_test, y_test)\n",
        "print(score)\n",
        "score_summary[\"SelectFromModel\"] = score\n"
      ],
      "id": "395d40ac",
      "execution_count": 162,
      "outputs": [
        {
          "output_type": "stream",
          "text": [
            "['powierzchnia', 'rok_budowy']\n",
            "0.7396100159459125\n"
          ],
          "name": "stdout"
        }
      ]
    },
    {
      "cell_type": "markdown",
      "metadata": {
        "id": "4baa27de"
      },
      "source": [
        "## Analiza składowych głównych - PCA"
      ],
      "id": "4baa27de"
    },
    {
      "cell_type": "code",
      "metadata": {
        "id": "2c326e8f"
      },
      "source": [
        "# import klasy odpowiedzialnej za PCA\n",
        "from sklearn.decomposition import PCA"
      ],
      "id": "2c326e8f",
      "execution_count": 163,
      "outputs": []
    },
    {
      "cell_type": "code",
      "metadata": {
        "id": "98c77b99"
      },
      "source": [
        "# inicjalizacja obiekty klasy PCA z nową liczbą wymiarów zm. niezależnej\n",
        "pca = PCA(n_components=N_FEAT, random_state=0)"
      ],
      "id": "98c77b99",
      "execution_count": 164,
      "outputs": []
    },
    {
      "cell_type": "code",
      "metadata": {
        "id": "da4ba400"
      },
      "source": [
        "# redukacja wymiarowości\n",
        "x_pca = pca.fit_transform(X)"
      ],
      "id": "da4ba400",
      "execution_count": 165,
      "outputs": []
    },
    {
      "cell_type": "code",
      "metadata": {
        "colab": {
          "base_uri": "https://localhost:8080/"
        },
        "id": "ad7051a0",
        "outputId": "5c146393-fc53-4804-c15e-32ee65c0fbba"
      },
      "source": [
        "X_train, X_test, y_train, y_test = train_test_split(x_pca, y, test_size=.2, random_state=0)\n",
        "model = DecisionTreeRegressor(random_state=42)\n",
        "model.fit(X_train, y_train)\n",
        "\n",
        "score = model.score(X_test, y_test)\n",
        "print(score)\n",
        "score_summary[\"PCA\"] = score\n"
      ],
      "id": "ad7051a0",
      "execution_count": 166,
      "outputs": [
        {
          "output_type": "stream",
          "text": [
            "0.4418608358900445\n"
          ],
          "name": "stdout"
        }
      ]
    },
    {
      "cell_type": "markdown",
      "metadata": {
        "id": "f05mre_sr9h0"
      },
      "source": [
        "# Wyniki"
      ],
      "id": "f05mre_sr9h0"
    },
    {
      "cell_type": "code",
      "metadata": {
        "colab": {
          "base_uri": "https://localhost:8080/",
          "height": 449
        },
        "id": "fb140ab7",
        "outputId": "745532c4-b17d-496a-9ed5-9fe19a739c34"
      },
      "source": [
        "pd.DataFrame(score_summary, index=[0]).T.plot(kind='bar', legend=False, figsize=(10,6), color='r', grid=True)\n",
        "plt.ylabel('Dokładność')\n",
        "plt.show()"
      ],
      "id": "fb140ab7",
      "execution_count": 167,
      "outputs": [
        {
          "output_type": "display_data",
          "data": {
            "image/png": "[encoded data removed]",
            "text/plain": [
              "<Figure size 720x432 with 1 Axes>"
            ]
          },
          "metadata": {
            "tags": [],
            "needs_background": "light"
          }
        }
      ]
    },
    {
      "cell_type": "code",
      "metadata": {
        "id": "MzclmvlbKNtk"
      },
      "source": [
        ""
      ],
      "id": "MzclmvlbKNtk",
      "execution_count": 167,
      "outputs": []
    }
  ]
}