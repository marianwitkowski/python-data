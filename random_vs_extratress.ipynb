{
  "nbformat": 4,
  "nbformat_minor": 0,
  "metadata": {
    "colab": {
      "name": "random-vs-extratress.ipynb",
      "provenance": []
    },
    "kernelspec": {
      "name": "python3",
      "display_name": "Python 3"
    },
    "language_info": {
      "name": "python"
    }
  },
  "cells": [
    {
      "cell_type": "markdown",
      "source": [
        "## Porównanie czasu działania klasyfikator RandomForestClassifier oraz ExtraTreesClassifier \n",
        "\n",
        "**Obydwa algorytmy wykorzystują podobną technikę realizacji zadania z wykorzystaniem wielu drzew decyzyjnych.**\n",
        "\n",
        "Główna różnica między RandomForest a  ExtraTrees polega na tym, że zamiast obliczać lokalnie optymalną kombinację cecha/podział (dla losowego lasu), dla każdej rozważanej cechy wybierana jest losowa wartość do podziału (na dodatkowe drzewa)."
      ],
      "metadata": {
        "id": "cuZOg3tP-Ap2"
      }
    },
    {
      "cell_type": "code",
      "execution_count": 1,
      "metadata": {
        "id": "ouPgdbzH8qqe"
      },
      "outputs": [],
      "source": [
        "from sklearn.datasets import load_digits\n",
        "from sklearn.ensemble import ExtraTreesClassifier\n",
        "from sklearn.ensemble import RandomForestClassifier\n",
        "from sklearn import metrics"
      ]
    },
    {
      "cell_type": "code",
      "source": [
        "digits = load_digits()"
      ],
      "metadata": {
        "id": "jUSkIwnL8w-u"
      },
      "execution_count": 2,
      "outputs": []
    },
    {
      "cell_type": "code",
      "source": [
        "train_size = 1400\n",
        "no_of_estimators = 500"
      ],
      "metadata": {
        "id": "dTXe-DVT80_I"
      },
      "execution_count": 3,
      "outputs": []
    },
    {
      "cell_type": "code",
      "source": [
        "train_x, train_y = digits.data[:train_size], digits.target[:train_size]\n",
        "test_x, test_y = digits.data[train_size:], digits.target[train_size:]"
      ],
      "metadata": {
        "id": "Z5lWSS_g82T-"
      },
      "execution_count": 4,
      "outputs": []
    },
    {
      "cell_type": "code",
      "source": [
        "%%timeit -n 5\n",
        "model = RandomForestClassifier(n_estimators=no_of_estimators, n_jobs=4, random_state=42)\n",
        "model.fit(train_x, train_y)\n",
        "y_pred = model.predict(test_x)\n",
        "acc_score = metrics.accuracy_score(test_y, y_pred)"
      ],
      "metadata": {
        "colab": {
          "base_uri": "https://localhost:8080/"
        },
        "id": "DmmzDwlI85ze",
        "outputId": "0a855918-ea9e-4b88-982a-216d56243d8f"
      },
      "execution_count": 8,
      "outputs": [
        {
          "output_type": "stream",
          "name": "stdout",
          "text": [
            "5 loops, best of 5: 1.91 s per loop\n"
          ]
        }
      ]
    },
    {
      "cell_type": "code",
      "source": [
        "acc_score"
      ],
      "metadata": {
        "colab": {
          "base_uri": "https://localhost:8080/"
        },
        "id": "G3nBMeqR9F-d",
        "outputId": "59654859-7810-42d5-dfef-8d4a4ed8c7af"
      },
      "execution_count": 9,
      "outputs": [
        {
          "output_type": "execute_result",
          "data": {
            "text/plain": [
              "0.924433249370277"
            ]
          },
          "metadata": {},
          "execution_count": 9
        }
      ]
    },
    {
      "cell_type": "code",
      "source": [
        "%%timeit -n 5\n",
        "model = ExtraTreesClassifier(n_estimators=no_of_estimators, n_jobs=4, random_state=42)\n",
        "model.fit(train_x, train_y)\n",
        "y_pred = model.predict(test_x)\n",
        "acc_score = metrics.accuracy_score(test_y, y_pred)"
      ],
      "metadata": {
        "colab": {
          "base_uri": "https://localhost:8080/"
        },
        "id": "Vvtsk5m29IOK",
        "outputId": "dc325328-1885-4d2f-fb63-d768b9a1b257"
      },
      "execution_count": 10,
      "outputs": [
        {
          "output_type": "stream",
          "name": "stdout",
          "text": [
            "5 loops, best of 5: 1.49 s per loop\n"
          ]
        }
      ]
    },
    {
      "cell_type": "code",
      "source": [
        "acc_score"
      ],
      "metadata": {
        "colab": {
          "base_uri": "https://localhost:8080/"
        },
        "id": "ap4GCtlw9wkc",
        "outputId": "7bb0b596-31fe-43bd-9d05-2a212f04b1b3"
      },
      "execution_count": 11,
      "outputs": [
        {
          "output_type": "execute_result",
          "data": {
            "text/plain": [
              "0.924433249370277"
            ]
          },
          "metadata": {},
          "execution_count": 11
        }
      ]
    },
    {
      "cell_type": "code",
      "source": [
        ""
      ],
      "metadata": {
        "id": "K3IU-LM_98JN"
      },
      "execution_count": null,
      "outputs": []
    }
  ]
}